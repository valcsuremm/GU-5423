{
  "nbformat": 4,
  "nbformat_minor": 0,
  "metadata": {
    "colab": {
      "provenance": [],
      "machine_shape": "hm",
      "gpuType": "L4",
      "authorship_tag": "ABX9TyPy0Y3PAqPC9ci3i588lNeh",
      "include_colab_link": true
    },
    "kernelspec": {
      "name": "python3",
      "display_name": "Python 3"
    },
    "language_info": {
      "name": "python"
    },
    "accelerator": "GPU"
  },
  "cells": [
    {
      "cell_type": "markdown",
      "metadata": {
        "id": "view-in-github",
        "colab_type": "text"
      },
      "source": [
        "<a href=\"https://colab.research.google.com/github/valcsuremm/GU-5423/blob/main/Project3.ipynb\" target=\"_parent\"><img src=\"https://colab.research.google.com/assets/colab-badge.svg\" alt=\"Open In Colab\"/></a>"
      ]
    },
    {
      "cell_type": "markdown",
      "source": [
        "#Final Project Code: Applied Data Science"
      ],
      "metadata": {
        "id": "gn0r6yFY1E-F"
      }
    },
    {
      "cell_type": "markdown",
      "source": [
        "### Connecting Google Drive"
      ],
      "metadata": {
        "id": "ljcNgBxcMboV"
      }
    },
    {
      "cell_type": "code",
      "execution_count": null,
      "metadata": {
        "id": "rEMyk3cccDX1",
        "colab": {
          "base_uri": "https://localhost:8080/"
        },
        "outputId": "6c1c6671-c70c-4391-b242-6e1b82b915c5"
      },
      "outputs": [
        {
          "output_type": "stream",
          "name": "stdout",
          "text": [
            "Mounted at /content/gdrive\n"
          ]
        }
      ],
      "source": [
        "from google.colab import drive\n",
        "drive.mount(\"/content/gdrive\", force_remount=True)"
      ]
    },
    {
      "cell_type": "markdown",
      "source": [
        "### Installing and importing packages"
      ],
      "metadata": {
        "id": "Al8ZddmVMh9V"
      }
    },
    {
      "cell_type": "code",
      "source": [
        "import numpy as np\n",
        "import time, os, sys, random\n",
        "from urllib.parse import urlparse\n",
        "import skimage.io\n",
        "import matplotlib.pyplot as plt\n",
        "import matplotlib as mpl\n",
        "\n",
        "import cv2\n",
        "from skimage.util import img_as_ubyte\n",
        "\n",
        "import torch\n",
        "from urllib.parse import urlparse\n",
        "import shutil\n",
        "\n",
        "from tifffile import imwrite\n",
        "from google.colab import drive\n",
        "\n",
        "import pandas as pd\n",
        "import skimage.measure\n",
        "import skimage.exposure\n",
        "\n",
        "from sklearn.ensemble import RandomForestClassifier\n",
        "from sklearn.model_selection import train_test_split\n",
        "\n",
        "from sklearn.metrics import accuracy_score, classification_report\n",
        "import skimage\n",
        "\n",
        "import tensorflow as tf\n",
        "from tensorflow.keras import layers, models\n",
        "from PIL import Image\n"
      ],
      "metadata": {
        "colab": {
          "base_uri": "https://localhost:8080/"
        },
        "id": "oIupfx0tdTWw",
        "outputId": "df2cc180-ca52-4cff-a69e-821364b7ce8e"
      },
      "execution_count": null,
      "outputs": [
        {
          "output_type": "stream",
          "name": "stdout",
          "text": [
            "Collecting stardist\n",
            "  Downloading stardist-0.9.1-cp310-cp310-manylinux_2_17_x86_64.manylinux2014_x86_64.whl.metadata (21 kB)\n",
            "Collecting csbdeep>=0.8.0 (from stardist)\n",
            "  Downloading csbdeep-0.8.1-py2.py3-none-any.whl.metadata (2.4 kB)\n",
            "Requirement already satisfied: scikit-image in /usr/local/lib/python3.10/dist-packages (from stardist) (0.24.0)\n",
            "Requirement already satisfied: numba in /usr/local/lib/python3.10/dist-packages (from stardist) (0.60.0)\n",
            "Requirement already satisfied: imageio in /usr/local/lib/python3.10/dist-packages (from stardist) (2.36.1)\n",
            "Requirement already satisfied: numpy in /usr/local/lib/python3.10/dist-packages (from csbdeep>=0.8.0->stardist) (1.26.4)\n",
            "Requirement already satisfied: scipy in /usr/local/lib/python3.10/dist-packages (from csbdeep>=0.8.0->stardist) (1.13.1)\n",
            "Requirement already satisfied: matplotlib in /usr/local/lib/python3.10/dist-packages (from csbdeep>=0.8.0->stardist) (3.8.0)\n",
            "Requirement already satisfied: six in /usr/local/lib/python3.10/dist-packages (from csbdeep>=0.8.0->stardist) (1.17.0)\n",
            "Requirement already satisfied: tifffile in /usr/local/lib/python3.10/dist-packages (from csbdeep>=0.8.0->stardist) (2024.9.20)\n",
            "Requirement already satisfied: tqdm in /usr/local/lib/python3.10/dist-packages (from csbdeep>=0.8.0->stardist) (4.66.6)\n",
            "Requirement already satisfied: packaging in /usr/local/lib/python3.10/dist-packages (from csbdeep>=0.8.0->stardist) (24.2)\n",
            "Requirement already satisfied: pillow>=8.3.2 in /usr/local/lib/python3.10/dist-packages (from imageio->stardist) (11.0.0)\n",
            "Requirement already satisfied: llvmlite<0.44,>=0.43.0dev0 in /usr/local/lib/python3.10/dist-packages (from numba->stardist) (0.43.0)\n",
            "Requirement already satisfied: networkx>=2.8 in /usr/local/lib/python3.10/dist-packages (from scikit-image->stardist) (3.4.2)\n",
            "Requirement already satisfied: lazy-loader>=0.4 in /usr/local/lib/python3.10/dist-packages (from scikit-image->stardist) (0.4)\n",
            "Requirement already satisfied: contourpy>=1.0.1 in /usr/local/lib/python3.10/dist-packages (from matplotlib->csbdeep>=0.8.0->stardist) (1.3.1)\n",
            "Requirement already satisfied: cycler>=0.10 in /usr/local/lib/python3.10/dist-packages (from matplotlib->csbdeep>=0.8.0->stardist) (0.12.1)\n",
            "Requirement already satisfied: fonttools>=4.22.0 in /usr/local/lib/python3.10/dist-packages (from matplotlib->csbdeep>=0.8.0->stardist) (4.55.3)\n",
            "Requirement already satisfied: kiwisolver>=1.0.1 in /usr/local/lib/python3.10/dist-packages (from matplotlib->csbdeep>=0.8.0->stardist) (1.4.7)\n",
            "Requirement already satisfied: pyparsing>=2.3.1 in /usr/local/lib/python3.10/dist-packages (from matplotlib->csbdeep>=0.8.0->stardist) (3.2.0)\n",
            "Requirement already satisfied: python-dateutil>=2.7 in /usr/local/lib/python3.10/dist-packages (from matplotlib->csbdeep>=0.8.0->stardist) (2.8.2)\n",
            "Downloading stardist-0.9.1-cp310-cp310-manylinux_2_17_x86_64.manylinux2014_x86_64.whl (3.1 MB)\n",
            "\u001b[2K   \u001b[90m━━━━━━━━━━━━━━━━━━━━━━━━━━━━━━━━━━━━━━━━\u001b[0m \u001b[32m3.1/3.1 MB\u001b[0m \u001b[31m85.1 MB/s\u001b[0m eta \u001b[36m0:00:00\u001b[0m\n",
            "\u001b[?25hDownloading csbdeep-0.8.1-py2.py3-none-any.whl (71 kB)\n",
            "\u001b[2K   \u001b[90m━━━━━━━━━━━━━━━━━━━━━━━━━━━━━━━━━━━━━━━━\u001b[0m \u001b[32m71.6/71.6 kB\u001b[0m \u001b[31m8.8 MB/s\u001b[0m eta \u001b[36m0:00:00\u001b[0m\n",
            "\u001b[?25hInstalling collected packages: csbdeep, stardist\n",
            "Successfully installed csbdeep-0.8.1 stardist-0.9.1\n",
            "Requirement already satisfied: csbdeep in /usr/local/lib/python3.10/dist-packages (0.8.1)\n",
            "Requirement already satisfied: numpy in /usr/local/lib/python3.10/dist-packages (from csbdeep) (1.26.4)\n",
            "Requirement already satisfied: scipy in /usr/local/lib/python3.10/dist-packages (from csbdeep) (1.13.1)\n",
            "Requirement already satisfied: matplotlib in /usr/local/lib/python3.10/dist-packages (from csbdeep) (3.8.0)\n",
            "Requirement already satisfied: six in /usr/local/lib/python3.10/dist-packages (from csbdeep) (1.17.0)\n",
            "Requirement already satisfied: tifffile in /usr/local/lib/python3.10/dist-packages (from csbdeep) (2024.9.20)\n",
            "Requirement already satisfied: tqdm in /usr/local/lib/python3.10/dist-packages (from csbdeep) (4.66.6)\n",
            "Requirement already satisfied: packaging in /usr/local/lib/python3.10/dist-packages (from csbdeep) (24.2)\n",
            "Requirement already satisfied: contourpy>=1.0.1 in /usr/local/lib/python3.10/dist-packages (from matplotlib->csbdeep) (1.3.1)\n",
            "Requirement already satisfied: cycler>=0.10 in /usr/local/lib/python3.10/dist-packages (from matplotlib->csbdeep) (0.12.1)\n",
            "Requirement already satisfied: fonttools>=4.22.0 in /usr/local/lib/python3.10/dist-packages (from matplotlib->csbdeep) (4.55.3)\n",
            "Requirement already satisfied: kiwisolver>=1.0.1 in /usr/local/lib/python3.10/dist-packages (from matplotlib->csbdeep) (1.4.7)\n",
            "Requirement already satisfied: pillow>=6.2.0 in /usr/local/lib/python3.10/dist-packages (from matplotlib->csbdeep) (11.0.0)\n",
            "Requirement already satisfied: pyparsing>=2.3.1 in /usr/local/lib/python3.10/dist-packages (from matplotlib->csbdeep) (3.2.0)\n",
            "Requirement already satisfied: python-dateutil>=2.7 in /usr/local/lib/python3.10/dist-packages (from matplotlib->csbdeep) (2.8.2)\n",
            "Collecting PyYAML\n",
            "  Downloading PyYAML-6.0.2-cp310-cp310-manylinux_2_17_x86_64.manylinux2014_x86_64.whl.metadata (2.1 kB)\n",
            "Downloading PyYAML-6.0.2-cp310-cp310-manylinux_2_17_x86_64.manylinux2014_x86_64.whl (751 kB)\n",
            "\u001b[2K   \u001b[90m━━━━━━━━━━━━━━━━━━━━━━━━━━━━━━━━━━━━━━━━\u001b[0m \u001b[32m751.2/751.2 kB\u001b[0m \u001b[31m37.9 MB/s\u001b[0m eta \u001b[36m0:00:00\u001b[0m\n",
            "\u001b[?25hInstalling collected packages: PyYAML\n",
            "  Attempting uninstall: PyYAML\n",
            "    Found existing installation: PyYAML 6.0.2\n",
            "    Uninstalling PyYAML-6.0.2:\n",
            "      Successfully uninstalled PyYAML-6.0.2\n",
            "Successfully installed PyYAML-6.0.2\n"
          ]
        }
      ]
    },
    {
      "cell_type": "markdown",
      "source": [
        "### Reconnected? Open these files:\n",
        "\n",
        "1. df (original dataframe) Form ID; Line ID; Writer ID;\tText; Image Path"
      ],
      "metadata": {
        "id": "LgBD_w_cMrEF"
      }
    },
    {
      "cell_type": "code",
      "source": [
        "csv_path = '/content/gdrive/MyDrive/P3/handwriting_metadata.csv'\n",
        "df = pd.read_csv(csv_path)"
      ],
      "metadata": {
        "id": "wUujuOG3MqCg"
      },
      "execution_count": null,
      "outputs": []
    },
    {
      "cell_type": "code",
      "source": [
        "df.head()"
      ],
      "metadata": {
        "colab": {
          "base_uri": "https://localhost:8080/",
          "height": 206
        },
        "id": "_Hk2u39zPgFs",
        "outputId": "fb5566c7-c79a-4730-a582-e9e2f0f826b6"
      },
      "execution_count": null,
      "outputs": [
        {
          "output_type": "execute_result",
          "data": {
            "text/plain": [
              "   Form ID     Line ID  Writer ID  \\\n",
              "0  e01-062  e01-062-00        213   \n",
              "1  e01-062  e01-062-01        213   \n",
              "2  e01-062  e01-062-02        213   \n",
              "3  e01-062  e01-062-03        213   \n",
              "4  e01-062  e01-062-04        213   \n",
              "\n",
              "                                                Text  \\\n",
              "0      In the home, crochet lace can be used to make   \n",
              "1   tablecloths, traycloths and runners, and edgings   \n",
              "2         from heavy to fine can fulfil a variety of   \n",
              "3  functions. The art of crochet is not difficult...   \n",
              "4   it is reasonably quick to work. In the following   \n",
              "\n",
              "                                          Image Path  \n",
              "0  /content/gdrive/MyDrive/P3/lines/e01/e01-062/e...  \n",
              "1  /content/gdrive/MyDrive/P3/lines/e01/e01-062/e...  \n",
              "2  /content/gdrive/MyDrive/P3/lines/e01/e01-062/e...  \n",
              "3  /content/gdrive/MyDrive/P3/lines/e01/e01-062/e...  \n",
              "4  /content/gdrive/MyDrive/P3/lines/e01/e01-062/e...  "
            ],
            "text/html": [
              "\n",
              "  <div id=\"df-872bee08-58b9-4fc3-87cb-3af0215a1433\" class=\"colab-df-container\">\n",
              "    <div>\n",
              "<style scoped>\n",
              "    .dataframe tbody tr th:only-of-type {\n",
              "        vertical-align: middle;\n",
              "    }\n",
              "\n",
              "    .dataframe tbody tr th {\n",
              "        vertical-align: top;\n",
              "    }\n",
              "\n",
              "    .dataframe thead th {\n",
              "        text-align: right;\n",
              "    }\n",
              "</style>\n",
              "<table border=\"1\" class=\"dataframe\">\n",
              "  <thead>\n",
              "    <tr style=\"text-align: right;\">\n",
              "      <th></th>\n",
              "      <th>Form ID</th>\n",
              "      <th>Line ID</th>\n",
              "      <th>Writer ID</th>\n",
              "      <th>Text</th>\n",
              "      <th>Image Path</th>\n",
              "    </tr>\n",
              "  </thead>\n",
              "  <tbody>\n",
              "    <tr>\n",
              "      <th>0</th>\n",
              "      <td>e01-062</td>\n",
              "      <td>e01-062-00</td>\n",
              "      <td>213</td>\n",
              "      <td>In the home, crochet lace can be used to make</td>\n",
              "      <td>/content/gdrive/MyDrive/P3/lines/e01/e01-062/e...</td>\n",
              "    </tr>\n",
              "    <tr>\n",
              "      <th>1</th>\n",
              "      <td>e01-062</td>\n",
              "      <td>e01-062-01</td>\n",
              "      <td>213</td>\n",
              "      <td>tablecloths, traycloths and runners, and edgings</td>\n",
              "      <td>/content/gdrive/MyDrive/P3/lines/e01/e01-062/e...</td>\n",
              "    </tr>\n",
              "    <tr>\n",
              "      <th>2</th>\n",
              "      <td>e01-062</td>\n",
              "      <td>e01-062-02</td>\n",
              "      <td>213</td>\n",
              "      <td>from heavy to fine can fulfil a variety of</td>\n",
              "      <td>/content/gdrive/MyDrive/P3/lines/e01/e01-062/e...</td>\n",
              "    </tr>\n",
              "    <tr>\n",
              "      <th>3</th>\n",
              "      <td>e01-062</td>\n",
              "      <td>e01-062-03</td>\n",
              "      <td>213</td>\n",
              "      <td>functions. The art of crochet is not difficult...</td>\n",
              "      <td>/content/gdrive/MyDrive/P3/lines/e01/e01-062/e...</td>\n",
              "    </tr>\n",
              "    <tr>\n",
              "      <th>4</th>\n",
              "      <td>e01-062</td>\n",
              "      <td>e01-062-04</td>\n",
              "      <td>213</td>\n",
              "      <td>it is reasonably quick to work. In the following</td>\n",
              "      <td>/content/gdrive/MyDrive/P3/lines/e01/e01-062/e...</td>\n",
              "    </tr>\n",
              "  </tbody>\n",
              "</table>\n",
              "</div>\n",
              "    <div class=\"colab-df-buttons\">\n",
              "\n",
              "  <div class=\"colab-df-container\">\n",
              "    <button class=\"colab-df-convert\" onclick=\"convertToInteractive('df-872bee08-58b9-4fc3-87cb-3af0215a1433')\"\n",
              "            title=\"Convert this dataframe to an interactive table.\"\n",
              "            style=\"display:none;\">\n",
              "\n",
              "  <svg xmlns=\"http://www.w3.org/2000/svg\" height=\"24px\" viewBox=\"0 -960 960 960\">\n",
              "    <path d=\"M120-120v-720h720v720H120Zm60-500h600v-160H180v160Zm220 220h160v-160H400v160Zm0 220h160v-160H400v160ZM180-400h160v-160H180v160Zm440 0h160v-160H620v160ZM180-180h160v-160H180v160Zm440 0h160v-160H620v160Z\"/>\n",
              "  </svg>\n",
              "    </button>\n",
              "\n",
              "  <style>\n",
              "    .colab-df-container {\n",
              "      display:flex;\n",
              "      gap: 12px;\n",
              "    }\n",
              "\n",
              "    .colab-df-convert {\n",
              "      background-color: #E8F0FE;\n",
              "      border: none;\n",
              "      border-radius: 50%;\n",
              "      cursor: pointer;\n",
              "      display: none;\n",
              "      fill: #1967D2;\n",
              "      height: 32px;\n",
              "      padding: 0 0 0 0;\n",
              "      width: 32px;\n",
              "    }\n",
              "\n",
              "    .colab-df-convert:hover {\n",
              "      background-color: #E2EBFA;\n",
              "      box-shadow: 0px 1px 2px rgba(60, 64, 67, 0.3), 0px 1px 3px 1px rgba(60, 64, 67, 0.15);\n",
              "      fill: #174EA6;\n",
              "    }\n",
              "\n",
              "    .colab-df-buttons div {\n",
              "      margin-bottom: 4px;\n",
              "    }\n",
              "\n",
              "    [theme=dark] .colab-df-convert {\n",
              "      background-color: #3B4455;\n",
              "      fill: #D2E3FC;\n",
              "    }\n",
              "\n",
              "    [theme=dark] .colab-df-convert:hover {\n",
              "      background-color: #434B5C;\n",
              "      box-shadow: 0px 1px 3px 1px rgba(0, 0, 0, 0.15);\n",
              "      filter: drop-shadow(0px 1px 2px rgba(0, 0, 0, 0.3));\n",
              "      fill: #FFFFFF;\n",
              "    }\n",
              "  </style>\n",
              "\n",
              "    <script>\n",
              "      const buttonEl =\n",
              "        document.querySelector('#df-872bee08-58b9-4fc3-87cb-3af0215a1433 button.colab-df-convert');\n",
              "      buttonEl.style.display =\n",
              "        google.colab.kernel.accessAllowed ? 'block' : 'none';\n",
              "\n",
              "      async function convertToInteractive(key) {\n",
              "        const element = document.querySelector('#df-872bee08-58b9-4fc3-87cb-3af0215a1433');\n",
              "        const dataTable =\n",
              "          await google.colab.kernel.invokeFunction('convertToInteractive',\n",
              "                                                    [key], {});\n",
              "        if (!dataTable) return;\n",
              "\n",
              "        const docLinkHtml = 'Like what you see? Visit the ' +\n",
              "          '<a target=\"_blank\" href=https://colab.research.google.com/notebooks/data_table.ipynb>data table notebook</a>'\n",
              "          + ' to learn more about interactive tables.';\n",
              "        element.innerHTML = '';\n",
              "        dataTable['output_type'] = 'display_data';\n",
              "        await google.colab.output.renderOutput(dataTable, element);\n",
              "        const docLink = document.createElement('div');\n",
              "        docLink.innerHTML = docLinkHtml;\n",
              "        element.appendChild(docLink);\n",
              "      }\n",
              "    </script>\n",
              "  </div>\n",
              "\n",
              "\n",
              "<div id=\"df-45c3aa0e-624f-40c0-98f5-ea1091483b6b\">\n",
              "  <button class=\"colab-df-quickchart\" onclick=\"quickchart('df-45c3aa0e-624f-40c0-98f5-ea1091483b6b')\"\n",
              "            title=\"Suggest charts\"\n",
              "            style=\"display:none;\">\n",
              "\n",
              "<svg xmlns=\"http://www.w3.org/2000/svg\" height=\"24px\"viewBox=\"0 0 24 24\"\n",
              "     width=\"24px\">\n",
              "    <g>\n",
              "        <path d=\"M19 3H5c-1.1 0-2 .9-2 2v14c0 1.1.9 2 2 2h14c1.1 0 2-.9 2-2V5c0-1.1-.9-2-2-2zM9 17H7v-7h2v7zm4 0h-2V7h2v10zm4 0h-2v-4h2v4z\"/>\n",
              "    </g>\n",
              "</svg>\n",
              "  </button>\n",
              "\n",
              "<style>\n",
              "  .colab-df-quickchart {\n",
              "      --bg-color: #E8F0FE;\n",
              "      --fill-color: #1967D2;\n",
              "      --hover-bg-color: #E2EBFA;\n",
              "      --hover-fill-color: #174EA6;\n",
              "      --disabled-fill-color: #AAA;\n",
              "      --disabled-bg-color: #DDD;\n",
              "  }\n",
              "\n",
              "  [theme=dark] .colab-df-quickchart {\n",
              "      --bg-color: #3B4455;\n",
              "      --fill-color: #D2E3FC;\n",
              "      --hover-bg-color: #434B5C;\n",
              "      --hover-fill-color: #FFFFFF;\n",
              "      --disabled-bg-color: #3B4455;\n",
              "      --disabled-fill-color: #666;\n",
              "  }\n",
              "\n",
              "  .colab-df-quickchart {\n",
              "    background-color: var(--bg-color);\n",
              "    border: none;\n",
              "    border-radius: 50%;\n",
              "    cursor: pointer;\n",
              "    display: none;\n",
              "    fill: var(--fill-color);\n",
              "    height: 32px;\n",
              "    padding: 0;\n",
              "    width: 32px;\n",
              "  }\n",
              "\n",
              "  .colab-df-quickchart:hover {\n",
              "    background-color: var(--hover-bg-color);\n",
              "    box-shadow: 0 1px 2px rgba(60, 64, 67, 0.3), 0 1px 3px 1px rgba(60, 64, 67, 0.15);\n",
              "    fill: var(--button-hover-fill-color);\n",
              "  }\n",
              "\n",
              "  .colab-df-quickchart-complete:disabled,\n",
              "  .colab-df-quickchart-complete:disabled:hover {\n",
              "    background-color: var(--disabled-bg-color);\n",
              "    fill: var(--disabled-fill-color);\n",
              "    box-shadow: none;\n",
              "  }\n",
              "\n",
              "  .colab-df-spinner {\n",
              "    border: 2px solid var(--fill-color);\n",
              "    border-color: transparent;\n",
              "    border-bottom-color: var(--fill-color);\n",
              "    animation:\n",
              "      spin 1s steps(1) infinite;\n",
              "  }\n",
              "\n",
              "  @keyframes spin {\n",
              "    0% {\n",
              "      border-color: transparent;\n",
              "      border-bottom-color: var(--fill-color);\n",
              "      border-left-color: var(--fill-color);\n",
              "    }\n",
              "    20% {\n",
              "      border-color: transparent;\n",
              "      border-left-color: var(--fill-color);\n",
              "      border-top-color: var(--fill-color);\n",
              "    }\n",
              "    30% {\n",
              "      border-color: transparent;\n",
              "      border-left-color: var(--fill-color);\n",
              "      border-top-color: var(--fill-color);\n",
              "      border-right-color: var(--fill-color);\n",
              "    }\n",
              "    40% {\n",
              "      border-color: transparent;\n",
              "      border-right-color: var(--fill-color);\n",
              "      border-top-color: var(--fill-color);\n",
              "    }\n",
              "    60% {\n",
              "      border-color: transparent;\n",
              "      border-right-color: var(--fill-color);\n",
              "    }\n",
              "    80% {\n",
              "      border-color: transparent;\n",
              "      border-right-color: var(--fill-color);\n",
              "      border-bottom-color: var(--fill-color);\n",
              "    }\n",
              "    90% {\n",
              "      border-color: transparent;\n",
              "      border-bottom-color: var(--fill-color);\n",
              "    }\n",
              "  }\n",
              "</style>\n",
              "\n",
              "  <script>\n",
              "    async function quickchart(key) {\n",
              "      const quickchartButtonEl =\n",
              "        document.querySelector('#' + key + ' button');\n",
              "      quickchartButtonEl.disabled = true;  // To prevent multiple clicks.\n",
              "      quickchartButtonEl.classList.add('colab-df-spinner');\n",
              "      try {\n",
              "        const charts = await google.colab.kernel.invokeFunction(\n",
              "            'suggestCharts', [key], {});\n",
              "      } catch (error) {\n",
              "        console.error('Error during call to suggestCharts:', error);\n",
              "      }\n",
              "      quickchartButtonEl.classList.remove('colab-df-spinner');\n",
              "      quickchartButtonEl.classList.add('colab-df-quickchart-complete');\n",
              "    }\n",
              "    (() => {\n",
              "      let quickchartButtonEl =\n",
              "        document.querySelector('#df-45c3aa0e-624f-40c0-98f5-ea1091483b6b button');\n",
              "      quickchartButtonEl.style.display =\n",
              "        google.colab.kernel.accessAllowed ? 'block' : 'none';\n",
              "    })();\n",
              "  </script>\n",
              "</div>\n",
              "\n",
              "    </div>\n",
              "  </div>\n"
            ],
            "application/vnd.google.colaboratory.intrinsic+json": {
              "type": "dataframe",
              "variable_name": "df",
              "summary": "{\n  \"name\": \"df\",\n  \"rows\": 13353,\n  \"fields\": [\n    {\n      \"column\": \"Form ID\",\n      \"properties\": {\n        \"dtype\": \"category\",\n        \"num_unique_values\": 1539,\n        \"samples\": [\n          \"e01-025\",\n          \"n06-156\",\n          \"g06-037b\"\n        ],\n        \"semantic_type\": \"\",\n        \"description\": \"\"\n      }\n    },\n    {\n      \"column\": \"Line ID\",\n      \"properties\": {\n        \"dtype\": \"string\",\n        \"num_unique_values\": 13353,\n        \"samples\": [\n          \"g03-040-03\",\n          \"p02-069-05\",\n          \"b04-089-06\"\n        ],\n        \"semantic_type\": \"\",\n        \"description\": \"\"\n      }\n    },\n    {\n      \"column\": \"Writer ID\",\n      \"properties\": {\n        \"dtype\": \"number\",\n        \"std\": 188,\n        \"min\": 0,\n        \"max\": 671,\n        \"num_unique_values\": 657,\n        \"samples\": [\n          175,\n          480,\n          499\n        ],\n        \"semantic_type\": \"\",\n        \"description\": \"\"\n      }\n    },\n    {\n      \"column\": \"Text\",\n      \"properties\": {\n        \"dtype\": \"string\",\n        \"num_unique_values\": 12774,\n        \"samples\": [\n          \"of specialists. The ordinary British man\",\n          \"days.\",\n          \"This man agreed that his engagement had\"\n        ],\n        \"semantic_type\": \"\",\n        \"description\": \"\"\n      }\n    },\n    {\n      \"column\": \"Image Path\",\n      \"properties\": {\n        \"dtype\": \"string\",\n        \"num_unique_values\": 13353,\n        \"samples\": [\n          \"/content/gdrive/MyDrive/P3/lines/g03/g03-040/g03-040-03.png\",\n          \"/content/gdrive/MyDrive/P3/lines/p02/p02-069/p02-069-05.png\",\n          \"/content/gdrive/MyDrive/P3/lines/b04/b04-089/b04-089-06.png\"\n        ],\n        \"semantic_type\": \"\",\n        \"description\": \"\"\n      }\n    }\n  ]\n}"
            }
          },
          "metadata": {},
          "execution_count": 15
        }
      ]
    },
    {
      "cell_type": "markdown",
      "source": [
        "2. Pairs file:"
      ],
      "metadata": {
        "id": "JkBHwYLnM-bL"
      }
    },
    {
      "cell_type": "code",
      "source": [
        "csv_path = '/content/gdrive/MyDrive/P3/pairs.csv'\n",
        "pairs_df = pd.read_csv(csv_path)"
      ],
      "metadata": {
        "id": "J-CsIsv4NXuX"
      },
      "execution_count": null,
      "outputs": []
    },
    {
      "cell_type": "code",
      "source": [
        "pairs_df\n",
        "print(pairs_df.dtypes) #line id, writer id, image path 1 and 2"
      ],
      "metadata": {
        "colab": {
          "base_uri": "https://localhost:8080/"
        },
        "id": "kF1TIYSUOBI9",
        "outputId": "c1d4f61d-870d-4ae3-9beb-923526293c5e"
      },
      "execution_count": null,
      "outputs": [
        {
          "output_type": "stream",
          "name": "stdout",
          "text": [
            "Line ID 1       object\n",
            "Writer ID 1      int64\n",
            "Image Path 1    object\n",
            "Line ID 2       object\n",
            "Writer ID 2      int64\n",
            "Image Path 2    object\n",
            "dtype: object\n"
          ]
        }
      ]
    },
    {
      "cell_type": "code",
      "source": [
        "invalid_image_paths = df[df['Image Path'].isnull()]\n",
        "invalid_image_paths #should be none :)"
      ],
      "metadata": {
        "colab": {
          "base_uri": "https://localhost:8080/",
          "height": 89
        },
        "id": "reOj6sj8S2yF",
        "outputId": "8184cae6-4a17-4ee0-f40b-470eb59bd657"
      },
      "execution_count": null,
      "outputs": [
        {
          "output_type": "execute_result",
          "data": {
            "text/plain": [
              "Empty DataFrame\n",
              "Columns: [Form ID, Line ID, Writer ID, Text, Image Path]\n",
              "Index: []"
            ],
            "text/html": [
              "\n",
              "  <div id=\"df-dcc4bdfa-631c-4abf-87e6-f633eeafd986\" class=\"colab-df-container\">\n",
              "    <div>\n",
              "<style scoped>\n",
              "    .dataframe tbody tr th:only-of-type {\n",
              "        vertical-align: middle;\n",
              "    }\n",
              "\n",
              "    .dataframe tbody tr th {\n",
              "        vertical-align: top;\n",
              "    }\n",
              "\n",
              "    .dataframe thead th {\n",
              "        text-align: right;\n",
              "    }\n",
              "</style>\n",
              "<table border=\"1\" class=\"dataframe\">\n",
              "  <thead>\n",
              "    <tr style=\"text-align: right;\">\n",
              "      <th></th>\n",
              "      <th>Form ID</th>\n",
              "      <th>Line ID</th>\n",
              "      <th>Writer ID</th>\n",
              "      <th>Text</th>\n",
              "      <th>Image Path</th>\n",
              "    </tr>\n",
              "  </thead>\n",
              "  <tbody>\n",
              "  </tbody>\n",
              "</table>\n",
              "</div>\n",
              "    <div class=\"colab-df-buttons\">\n",
              "\n",
              "  <div class=\"colab-df-container\">\n",
              "    <button class=\"colab-df-convert\" onclick=\"convertToInteractive('df-dcc4bdfa-631c-4abf-87e6-f633eeafd986')\"\n",
              "            title=\"Convert this dataframe to an interactive table.\"\n",
              "            style=\"display:none;\">\n",
              "\n",
              "  <svg xmlns=\"http://www.w3.org/2000/svg\" height=\"24px\" viewBox=\"0 -960 960 960\">\n",
              "    <path d=\"M120-120v-720h720v720H120Zm60-500h600v-160H180v160Zm220 220h160v-160H400v160Zm0 220h160v-160H400v160ZM180-400h160v-160H180v160Zm440 0h160v-160H620v160ZM180-180h160v-160H180v160Zm440 0h160v-160H620v160Z\"/>\n",
              "  </svg>\n",
              "    </button>\n",
              "\n",
              "  <style>\n",
              "    .colab-df-container {\n",
              "      display:flex;\n",
              "      gap: 12px;\n",
              "    }\n",
              "\n",
              "    .colab-df-convert {\n",
              "      background-color: #E8F0FE;\n",
              "      border: none;\n",
              "      border-radius: 50%;\n",
              "      cursor: pointer;\n",
              "      display: none;\n",
              "      fill: #1967D2;\n",
              "      height: 32px;\n",
              "      padding: 0 0 0 0;\n",
              "      width: 32px;\n",
              "    }\n",
              "\n",
              "    .colab-df-convert:hover {\n",
              "      background-color: #E2EBFA;\n",
              "      box-shadow: 0px 1px 2px rgba(60, 64, 67, 0.3), 0px 1px 3px 1px rgba(60, 64, 67, 0.15);\n",
              "      fill: #174EA6;\n",
              "    }\n",
              "\n",
              "    .colab-df-buttons div {\n",
              "      margin-bottom: 4px;\n",
              "    }\n",
              "\n",
              "    [theme=dark] .colab-df-convert {\n",
              "      background-color: #3B4455;\n",
              "      fill: #D2E3FC;\n",
              "    }\n",
              "\n",
              "    [theme=dark] .colab-df-convert:hover {\n",
              "      background-color: #434B5C;\n",
              "      box-shadow: 0px 1px 3px 1px rgba(0, 0, 0, 0.15);\n",
              "      filter: drop-shadow(0px 1px 2px rgba(0, 0, 0, 0.3));\n",
              "      fill: #FFFFFF;\n",
              "    }\n",
              "  </style>\n",
              "\n",
              "    <script>\n",
              "      const buttonEl =\n",
              "        document.querySelector('#df-dcc4bdfa-631c-4abf-87e6-f633eeafd986 button.colab-df-convert');\n",
              "      buttonEl.style.display =\n",
              "        google.colab.kernel.accessAllowed ? 'block' : 'none';\n",
              "\n",
              "      async function convertToInteractive(key) {\n",
              "        const element = document.querySelector('#df-dcc4bdfa-631c-4abf-87e6-f633eeafd986');\n",
              "        const dataTable =\n",
              "          await google.colab.kernel.invokeFunction('convertToInteractive',\n",
              "                                                    [key], {});\n",
              "        if (!dataTable) return;\n",
              "\n",
              "        const docLinkHtml = 'Like what you see? Visit the ' +\n",
              "          '<a target=\"_blank\" href=https://colab.research.google.com/notebooks/data_table.ipynb>data table notebook</a>'\n",
              "          + ' to learn more about interactive tables.';\n",
              "        element.innerHTML = '';\n",
              "        dataTable['output_type'] = 'display_data';\n",
              "        await google.colab.output.renderOutput(dataTable, element);\n",
              "        const docLink = document.createElement('div');\n",
              "        docLink.innerHTML = docLinkHtml;\n",
              "        element.appendChild(docLink);\n",
              "      }\n",
              "    </script>\n",
              "  </div>\n",
              "\n",
              "\n",
              "  <div id=\"id_5e6cce48-bcdc-4217-8dfb-cec72a19b6a0\">\n",
              "    <style>\n",
              "      .colab-df-generate {\n",
              "        background-color: #E8F0FE;\n",
              "        border: none;\n",
              "        border-radius: 50%;\n",
              "        cursor: pointer;\n",
              "        display: none;\n",
              "        fill: #1967D2;\n",
              "        height: 32px;\n",
              "        padding: 0 0 0 0;\n",
              "        width: 32px;\n",
              "      }\n",
              "\n",
              "      .colab-df-generate:hover {\n",
              "        background-color: #E2EBFA;\n",
              "        box-shadow: 0px 1px 2px rgba(60, 64, 67, 0.3), 0px 1px 3px 1px rgba(60, 64, 67, 0.15);\n",
              "        fill: #174EA6;\n",
              "      }\n",
              "\n",
              "      [theme=dark] .colab-df-generate {\n",
              "        background-color: #3B4455;\n",
              "        fill: #D2E3FC;\n",
              "      }\n",
              "\n",
              "      [theme=dark] .colab-df-generate:hover {\n",
              "        background-color: #434B5C;\n",
              "        box-shadow: 0px 1px 3px 1px rgba(0, 0, 0, 0.15);\n",
              "        filter: drop-shadow(0px 1px 2px rgba(0, 0, 0, 0.3));\n",
              "        fill: #FFFFFF;\n",
              "      }\n",
              "    </style>\n",
              "    <button class=\"colab-df-generate\" onclick=\"generateWithVariable('invalid_image_paths')\"\n",
              "            title=\"Generate code using this dataframe.\"\n",
              "            style=\"display:none;\">\n",
              "\n",
              "  <svg xmlns=\"http://www.w3.org/2000/svg\" height=\"24px\"viewBox=\"0 0 24 24\"\n",
              "       width=\"24px\">\n",
              "    <path d=\"M7,19H8.4L18.45,9,17,7.55,7,17.6ZM5,21V16.75L18.45,3.32a2,2,0,0,1,2.83,0l1.4,1.43a1.91,1.91,0,0,1,.58,1.4,1.91,1.91,0,0,1-.58,1.4L9.25,21ZM18.45,9,17,7.55Zm-12,3A5.31,5.31,0,0,0,4.9,8.1,5.31,5.31,0,0,0,1,6.5,5.31,5.31,0,0,0,4.9,4.9,5.31,5.31,0,0,0,6.5,1,5.31,5.31,0,0,0,8.1,4.9,5.31,5.31,0,0,0,12,6.5,5.46,5.46,0,0,0,6.5,12Z\"/>\n",
              "  </svg>\n",
              "    </button>\n",
              "    <script>\n",
              "      (() => {\n",
              "      const buttonEl =\n",
              "        document.querySelector('#id_5e6cce48-bcdc-4217-8dfb-cec72a19b6a0 button.colab-df-generate');\n",
              "      buttonEl.style.display =\n",
              "        google.colab.kernel.accessAllowed ? 'block' : 'none';\n",
              "\n",
              "      buttonEl.onclick = () => {\n",
              "        google.colab.notebook.generateWithVariable('invalid_image_paths');\n",
              "      }\n",
              "      })();\n",
              "    </script>\n",
              "  </div>\n",
              "\n",
              "    </div>\n",
              "  </div>\n"
            ],
            "application/vnd.google.colaboratory.intrinsic+json": {
              "type": "dataframe",
              "variable_name": "invalid_image_paths",
              "repr_error": "Out of range float values are not JSON compliant: nan"
            }
          },
          "metadata": {},
          "execution_count": 18
        }
      ]
    },
    {
      "cell_type": "code",
      "source": [
        "invalid_image_paths = pairs_df[pairs_df['Image Path 1'].isnull() | pairs_df['Image Path 2'].isnull()]\n",
        "\n",
        "# Print the rows with invalid paths\n",
        "print(invalid_image_paths) #should be none"
      ],
      "metadata": {
        "colab": {
          "base_uri": "https://localhost:8080/"
        },
        "id": "bytx_bAYO5oJ",
        "outputId": "bdc9be3e-54a2-49fd-8252-659a5c414772"
      },
      "execution_count": null,
      "outputs": [
        {
          "output_type": "stream",
          "name": "stdout",
          "text": [
            "Empty DataFrame\n",
            "Columns: [Line ID 1, Writer ID 1, Image Path 1, Line ID 2, Writer ID 2, Image Path 2]\n",
            "Index: []\n"
          ]
        }
      ]
    },
    {
      "cell_type": "markdown",
      "source": [
        "3. List indices (randomly selected, previosuly and as of now, k = 30000)"
      ],
      "metadata": {
        "id": "0aG6wxdcNcrv"
      }
    },
    {
      "cell_type": "code",
      "source": [
        "csv_path = '/content/gdrive/MyDrive/P3/list_indices.csv'\n",
        "indices_df = pd.read_csv(csv_path)"
      ],
      "metadata": {
        "id": "3N_V7-QwN5sg"
      },
      "execution_count": null,
      "outputs": []
    },
    {
      "cell_type": "code",
      "source": [
        "csv_path = '/content/gdrive/MyDrive/P3/subset_filtered_final.csv'\n",
        "subset_filtered_real = pd.read_csv(csv_path)"
      ],
      "metadata": {
        "id": "xh-6J0tqBuuZ"
      },
      "execution_count": null,
      "outputs": []
    },
    {
      "cell_type": "markdown",
      "source": [
        "4a. Pairs which have not undergone processing but there are 30k of them, taken from original 86 million pair dataset."
      ],
      "metadata": {
        "id": "Vn4YjMDYB6_4"
      }
    },
    {
      "cell_type": "code",
      "source": [
        "csv_path = '/content/gdrive/MyDrive/P3/filtered_30k.csv'\n",
        "filtered_pairs_df = pd.read_csv(csv_path)"
      ],
      "metadata": {
        "id": "amfcitOtB_-l"
      },
      "execution_count": null,
      "outputs": []
    },
    {
      "cell_type": "markdown",
      "source": [
        "4. Processed images, train-test split are below"
      ],
      "metadata": {
        "id": "mw0sy57rBzPx"
      }
    },
    {
      "cell_type": "code",
      "source": [
        "data_path = \"/content/gdrive/MyDrive/P3\"  # Input directory\n",
        "input_dir = os.path.join(data_path, \"\")"
      ],
      "metadata": {
        "id": "CEokAyYLdEDl"
      },
      "execution_count": null,
      "outputs": []
    },
    {
      "cell_type": "code",
      "source": [
        "sample_form_path = os.path.join(data_path, 'formsI-Z/j01-042.png')\n",
        "img = Image.open(sample_form_path)\n",
        "plt.imshow(img, cmap='gray')\n",
        "plt.axis('off')\n",
        "plt.show() #this would be considered an individual form rather than a word, sentence, or line"
      ],
      "metadata": {
        "colab": {
          "base_uri": "https://localhost:8080/",
          "height": 406
        },
        "id": "fsc_x0lDdxrJ",
        "outputId": "479b2ce9-8f30-42a3-c012-bd4bb9b0116d"
      },
      "execution_count": null,
      "outputs": [
        {
          "output_type": "display_data",
          "data": {
            "text/plain": [
              "<Figure size 640x480 with 1 Axes>"
            ],
            "image/png": "[encoded data removed]"
          },
          "metadata": {}
        }
      ]
    },
    {
      "cell_type": "markdown",
      "source": [
        "### Parsing XML file\n",
        "\n",
        "\"XML tree and elements:\n",
        "\n",
        "XML is an inherently hierarchical data format, and the most natural way to represent it is with a tree. ET has two classes for this purpose - ElementTree represents the whole XML document as a tree, and Element represents a single node in this tree. Interactions with the whole document (reading and writing to/from files) are usually done on the ElementTree level. Interactions with a single XML element and its sub-elements are done on the Element level.\" - Python documentation (https://docs.python.org/3/library/xml.etree.elementtree.html)\n",
        "\n",
        "This next part of my code is heavily informed by the Python documentation.\n",
        "\n",
        "\"Element has some useful methods that help iterate recursively over all the sub-tree below it (its children, their children, and so on). For example, Element.iter():\n",
        "\n",
        ">>\n",
        "for neighbor in root.iter('neighbor'):\n",
        "    ...\n",
        "\n",
        "Element.findall() finds only elements with a tag which are direct children of the current element. Element.find() finds the first child with a particular tag, and Element.text accesses the element’s text content. Element.get() accesses the element’s attributes.\""
      ],
      "metadata": {
        "id": "ttP3rD-d-VzP"
      }
    },
    {
      "cell_type": "code",
      "source": [
        "import xml.etree.ElementTree as ET"
      ],
      "metadata": {
        "id": "5XcaL2P8-kxz"
      },
      "execution_count": null,
      "outputs": []
    },
    {
      "cell_type": "code",
      "source": [
        "# xml path\n",
        "xml_dir = \"/content/gdrive/MyDrive/P3/xml\"\n",
        "\n",
        "data = []\n",
        "\n",
        "for xml_file in os.listdir(xml_dir):\n",
        "    if xml_file.endswith(\".xml\"):\n",
        "        tree = ET.parse(os.path.join(xml_dir, xml_file))\n",
        "        root = tree.getroot()\n",
        "\n",
        "        writer_id = root.attrib.get('writer-id', None)\n",
        "        form_id = root.attrib.get('id', None)\n",
        "\n",
        "        for line in root.findall(\".//line\"):\n",
        "            line_id = line.attrib.get('id', None)\n",
        "            text = line.attrib.get('text', \"\")\n",
        "            #storing the data I want\n",
        "            data.append({\n",
        "                \"Form ID\": form_id,\n",
        "                \"Line ID\": line_id,\n",
        "                \"Writer ID\": writer_id,\n",
        "                \"Text\": text\n",
        "            })\n",
        "\n",
        "df = pd.DataFrame(data)\n",
        "\n",
        "# Saved to CSV\n",
        "df.to_csv('/content/gdrive/MyDrive/P3/handwriting_metadata.csv', index=False)\n",
        "\n",
        "print(df.head())\n"
      ],
      "metadata": {
        "colab": {
          "base_uri": "https://localhost:8080/"
        },
        "id": "lLRXRJxuBTPD",
        "outputId": "5ec5ac3c-a0b0-424b-ca76-1fffe295ca0f"
      },
      "execution_count": null,
      "outputs": [
        {
          "output_type": "stream",
          "name": "stdout",
          "text": [
            "   Form ID     Line ID Writer ID  \\\n",
            "0  e01-062  e01-062-00       213   \n",
            "1  e01-062  e01-062-01       213   \n",
            "2  e01-062  e01-062-02       213   \n",
            "3  e01-062  e01-062-03       213   \n",
            "4  e01-062  e01-062-04       213   \n",
            "\n",
            "                                                Text  \n",
            "0      In the home, crochet lace can be used to make  \n",
            "1   tablecloths, traycloths and runners, and edgings  \n",
            "2         from heavy to fine can fulfil a variety of  \n",
            "3  functions. The art of crochet is not difficult...  \n",
            "4   it is reasonably quick to work. In the following  \n"
          ]
        }
      ]
    },
    {
      "cell_type": "markdown",
      "source": [
        "Now I am going to match the metadata with my images. First, I'm going to do it on the \"lines\" basis. If it's possible to do it on the lines basis, I'd like to expand to words.\n",
        "\n",
        "First, I construct the image path."
      ],
      "metadata": {
        "id": "8rReoyKSkMwt"
      }
    },
    {
      "cell_type": "code",
      "source": [
        "lines_dir = \"/content/gdrive/MyDrive/P3/lines\"\n",
        "\n",
        "image_paths = []\n",
        "\n",
        "for line_id in df['Line ID']:\n",
        "    # splitting the line ID by the hyphen (can't do number of characters because those can change)\n",
        "    parts = line_id.split('-')\n",
        "\n",
        "    if len(parts) >= 2: #need a first folder and then a subfolder\n",
        "        first_level_folder = parts[0]\n",
        "\n",
        "        second_level_folder = '-'.join(parts[:2])\n",
        "\n",
        "        image_path = os.path.join(lines_dir, first_level_folder, second_level_folder, f\"{line_id}.png\") #creating the image path based on the paths given in xml\n",
        "\n",
        "        if os.path.exists(image_path): #check if it exists... like i learned in data strucs\n",
        "            image_paths.append(image_path)\n",
        "        else:\n",
        "            image_paths.append(None)\n",
        "    else:\n",
        "        image_paths.append(None)\n",
        "\n",
        "df['Image Path'] = image_paths\n",
        "\n",
        "df.head()"
      ],
      "metadata": {
        "colab": {
          "base_uri": "https://localhost:8080/"
        },
        "id": "vbYWwfpnTgVD",
        "outputId": "f1eebbac-29fe-42c8-e5a3-33f8e308214f"
      },
      "execution_count": null,
      "outputs": [
        {
          "output_type": "stream",
          "name": "stdout",
          "text": [
            "       Form ID     Line ID  Writer ID  \\\n",
            "0      e01-062  e01-062-00        213   \n",
            "1      e01-062  e01-062-01        213   \n",
            "2      e01-062  e01-062-02        213   \n",
            "3      e01-062  e01-062-03        213   \n",
            "4      e01-062  e01-062-04        213   \n",
            "...        ...         ...        ...   \n",
            "13348  e01-081  e01-081-01        214   \n",
            "13349  e01-081  e01-081-02        214   \n",
            "13350  e01-081  e01-081-03        214   \n",
            "13351  e01-081  e01-081-04        214   \n",
            "13352  e01-081  e01-081-05        214   \n",
            "\n",
            "                                                    Text  \\\n",
            "0          In the home, crochet lace can be used to make   \n",
            "1       tablecloths, traycloths and runners, and edgings   \n",
            "2             from heavy to fine can fulfil a variety of   \n",
            "3      functions. The art of crochet is not difficult...   \n",
            "4       it is reasonably quick to work. In the following   \n",
            "...                                                  ...   \n",
            "13348  shape, ensuring that all lines of the crochet are   \n",
            "13349  accurate. Place crochet in correct position on...   \n",
            "13350   secure with pins. Run a line of basting stitches   \n",
            "13351  on the linen following the outline of the croc...   \n",
            "13352  which are to be attached to the linen. Remove ...   \n",
            "\n",
            "                                              Image Path  \n",
            "0      /content/gdrive/MyDrive/P3/lines/e01/e01-062/e...  \n",
            "1      /content/gdrive/MyDrive/P3/lines/e01/e01-062/e...  \n",
            "2      /content/gdrive/MyDrive/P3/lines/e01/e01-062/e...  \n",
            "3      /content/gdrive/MyDrive/P3/lines/e01/e01-062/e...  \n",
            "4      /content/gdrive/MyDrive/P3/lines/e01/e01-062/e...  \n",
            "...                                                  ...  \n",
            "13348  /content/gdrive/MyDrive/P3/lines/e01/e01-081/e...  \n",
            "13349  /content/gdrive/MyDrive/P3/lines/e01/e01-081/e...  \n",
            "13350  /content/gdrive/MyDrive/P3/lines/e01/e01-081/e...  \n",
            "13351  /content/gdrive/MyDrive/P3/lines/e01/e01-081/e...  \n",
            "13352  /content/gdrive/MyDrive/P3/lines/e01/e01-081/e...  \n",
            "\n",
            "[13353 rows x 5 columns]\n"
          ]
        }
      ]
    },
    {
      "cell_type": "code",
      "source": [
        "df.to_csv('/content/gdrive/MyDrive/P3/handwriting_metadata.csv', index=False) #to save just in case (lots of saving in this project)"
      ],
      "metadata": {
        "colab": {
          "base_uri": "https://localhost:8080/",
          "height": 206
        },
        "id": "1oYp7uo0q_Is",
        "outputId": "538a1aa3-a283-47ce-9ba1-485e06ac5b93"
      },
      "execution_count": null,
      "outputs": [
        {
          "output_type": "execute_result",
          "data": {
            "text/plain": [
              "   Form ID     Line ID  Writer ID  \\\n",
              "0  e01-062  e01-062-00        213   \n",
              "1  e01-062  e01-062-01        213   \n",
              "2  e01-062  e01-062-02        213   \n",
              "3  e01-062  e01-062-03        213   \n",
              "4  e01-062  e01-062-04        213   \n",
              "\n",
              "                                                Text  \\\n",
              "0      In the home, crochet lace can be used to make   \n",
              "1   tablecloths, traycloths and runners, and edgings   \n",
              "2         from heavy to fine can fulfil a variety of   \n",
              "3  functions. The art of crochet is not difficult...   \n",
              "4   it is reasonably quick to work. In the following   \n",
              "\n",
              "                                          Image Path  \n",
              "0  /content/gdrive/MyDrive/P3/lines/e01/e01-062/e...  \n",
              "1  /content/gdrive/MyDrive/P3/lines/e01/e01-062/e...  \n",
              "2  /content/gdrive/MyDrive/P3/lines/e01/e01-062/e...  \n",
              "3  /content/gdrive/MyDrive/P3/lines/e01/e01-062/e...  \n",
              "4  /content/gdrive/MyDrive/P3/lines/e01/e01-062/e...  "
            ],
            "text/html": [
              "\n",
              "  <div id=\"df-3b1105e6-2dd6-4b68-a528-52c1fea88f72\" class=\"colab-df-container\">\n",
              "    <div>\n",
              "<style scoped>\n",
              "    .dataframe tbody tr th:only-of-type {\n",
              "        vertical-align: middle;\n",
              "    }\n",
              "\n",
              "    .dataframe tbody tr th {\n",
              "        vertical-align: top;\n",
              "    }\n",
              "\n",
              "    .dataframe thead th {\n",
              "        text-align: right;\n",
              "    }\n",
              "</style>\n",
              "<table border=\"1\" class=\"dataframe\">\n",
              "  <thead>\n",
              "    <tr style=\"text-align: right;\">\n",
              "      <th></th>\n",
              "      <th>Form ID</th>\n",
              "      <th>Line ID</th>\n",
              "      <th>Writer ID</th>\n",
              "      <th>Text</th>\n",
              "      <th>Image Path</th>\n",
              "    </tr>\n",
              "  </thead>\n",
              "  <tbody>\n",
              "    <tr>\n",
              "      <th>0</th>\n",
              "      <td>e01-062</td>\n",
              "      <td>e01-062-00</td>\n",
              "      <td>213</td>\n",
              "      <td>In the home, crochet lace can be used to make</td>\n",
              "      <td>/content/gdrive/MyDrive/P3/lines/e01/e01-062/e...</td>\n",
              "    </tr>\n",
              "    <tr>\n",
              "      <th>1</th>\n",
              "      <td>e01-062</td>\n",
              "      <td>e01-062-01</td>\n",
              "      <td>213</td>\n",
              "      <td>tablecloths, traycloths and runners, and edgings</td>\n",
              "      <td>/content/gdrive/MyDrive/P3/lines/e01/e01-062/e...</td>\n",
              "    </tr>\n",
              "    <tr>\n",
              "      <th>2</th>\n",
              "      <td>e01-062</td>\n",
              "      <td>e01-062-02</td>\n",
              "      <td>213</td>\n",
              "      <td>from heavy to fine can fulfil a variety of</td>\n",
              "      <td>/content/gdrive/MyDrive/P3/lines/e01/e01-062/e...</td>\n",
              "    </tr>\n",
              "    <tr>\n",
              "      <th>3</th>\n",
              "      <td>e01-062</td>\n",
              "      <td>e01-062-03</td>\n",
              "      <td>213</td>\n",
              "      <td>functions. The art of crochet is not difficult...</td>\n",
              "      <td>/content/gdrive/MyDrive/P3/lines/e01/e01-062/e...</td>\n",
              "    </tr>\n",
              "    <tr>\n",
              "      <th>4</th>\n",
              "      <td>e01-062</td>\n",
              "      <td>e01-062-04</td>\n",
              "      <td>213</td>\n",
              "      <td>it is reasonably quick to work. In the following</td>\n",
              "      <td>/content/gdrive/MyDrive/P3/lines/e01/e01-062/e...</td>\n",
              "    </tr>\n",
              "  </tbody>\n",
              "</table>\n",
              "</div>\n",
              "    <div class=\"colab-df-buttons\">\n",
              "\n",
              "  <div class=\"colab-df-container\">\n",
              "    <button class=\"colab-df-convert\" onclick=\"convertToInteractive('df-3b1105e6-2dd6-4b68-a528-52c1fea88f72')\"\n",
              "            title=\"Convert this dataframe to an interactive table.\"\n",
              "            style=\"display:none;\">\n",
              "\n",
              "  <svg xmlns=\"http://www.w3.org/2000/svg\" height=\"24px\" viewBox=\"0 -960 960 960\">\n",
              "    <path d=\"M120-120v-720h720v720H120Zm60-500h600v-160H180v160Zm220 220h160v-160H400v160Zm0 220h160v-160H400v160ZM180-400h160v-160H180v160Zm440 0h160v-160H620v160ZM180-180h160v-160H180v160Zm440 0h160v-160H620v160Z\"/>\n",
              "  </svg>\n",
              "    </button>\n",
              "\n",
              "  <style>\n",
              "    .colab-df-container {\n",
              "      display:flex;\n",
              "      gap: 12px;\n",
              "    }\n",
              "\n",
              "    .colab-df-convert {\n",
              "      background-color: #E8F0FE;\n",
              "      border: none;\n",
              "      border-radius: 50%;\n",
              "      cursor: pointer;\n",
              "      display: none;\n",
              "      fill: #1967D2;\n",
              "      height: 32px;\n",
              "      padding: 0 0 0 0;\n",
              "      width: 32px;\n",
              "    }\n",
              "\n",
              "    .colab-df-convert:hover {\n",
              "      background-color: #E2EBFA;\n",
              "      box-shadow: 0px 1px 2px rgba(60, 64, 67, 0.3), 0px 1px 3px 1px rgba(60, 64, 67, 0.15);\n",
              "      fill: #174EA6;\n",
              "    }\n",
              "\n",
              "    .colab-df-buttons div {\n",
              "      margin-bottom: 4px;\n",
              "    }\n",
              "\n",
              "    [theme=dark] .colab-df-convert {\n",
              "      background-color: #3B4455;\n",
              "      fill: #D2E3FC;\n",
              "    }\n",
              "\n",
              "    [theme=dark] .colab-df-convert:hover {\n",
              "      background-color: #434B5C;\n",
              "      box-shadow: 0px 1px 3px 1px rgba(0, 0, 0, 0.15);\n",
              "      filter: drop-shadow(0px 1px 2px rgba(0, 0, 0, 0.3));\n",
              "      fill: #FFFFFF;\n",
              "    }\n",
              "  </style>\n",
              "\n",
              "    <script>\n",
              "      const buttonEl =\n",
              "        document.querySelector('#df-3b1105e6-2dd6-4b68-a528-52c1fea88f72 button.colab-df-convert');\n",
              "      buttonEl.style.display =\n",
              "        google.colab.kernel.accessAllowed ? 'block' : 'none';\n",
              "\n",
              "      async function convertToInteractive(key) {\n",
              "        const element = document.querySelector('#df-3b1105e6-2dd6-4b68-a528-52c1fea88f72');\n",
              "        const dataTable =\n",
              "          await google.colab.kernel.invokeFunction('convertToInteractive',\n",
              "                                                    [key], {});\n",
              "        if (!dataTable) return;\n",
              "\n",
              "        const docLinkHtml = 'Like what you see? Visit the ' +\n",
              "          '<a target=\"_blank\" href=https://colab.research.google.com/notebooks/data_table.ipynb>data table notebook</a>'\n",
              "          + ' to learn more about interactive tables.';\n",
              "        element.innerHTML = '';\n",
              "        dataTable['output_type'] = 'display_data';\n",
              "        await google.colab.output.renderOutput(dataTable, element);\n",
              "        const docLink = document.createElement('div');\n",
              "        docLink.innerHTML = docLinkHtml;\n",
              "        element.appendChild(docLink);\n",
              "      }\n",
              "    </script>\n",
              "  </div>\n",
              "\n",
              "\n",
              "<div id=\"df-f4d5bfc0-5f87-4174-bc90-330ef12345c9\">\n",
              "  <button class=\"colab-df-quickchart\" onclick=\"quickchart('df-f4d5bfc0-5f87-4174-bc90-330ef12345c9')\"\n",
              "            title=\"Suggest charts\"\n",
              "            style=\"display:none;\">\n",
              "\n",
              "<svg xmlns=\"http://www.w3.org/2000/svg\" height=\"24px\"viewBox=\"0 0 24 24\"\n",
              "     width=\"24px\">\n",
              "    <g>\n",
              "        <path d=\"M19 3H5c-1.1 0-2 .9-2 2v14c0 1.1.9 2 2 2h14c1.1 0 2-.9 2-2V5c0-1.1-.9-2-2-2zM9 17H7v-7h2v7zm4 0h-2V7h2v10zm4 0h-2v-4h2v4z\"/>\n",
              "    </g>\n",
              "</svg>\n",
              "  </button>\n",
              "\n",
              "<style>\n",
              "  .colab-df-quickchart {\n",
              "      --bg-color: #E8F0FE;\n",
              "      --fill-color: #1967D2;\n",
              "      --hover-bg-color: #E2EBFA;\n",
              "      --hover-fill-color: #174EA6;\n",
              "      --disabled-fill-color: #AAA;\n",
              "      --disabled-bg-color: #DDD;\n",
              "  }\n",
              "\n",
              "  [theme=dark] .colab-df-quickchart {\n",
              "      --bg-color: #3B4455;\n",
              "      --fill-color: #D2E3FC;\n",
              "      --hover-bg-color: #434B5C;\n",
              "      --hover-fill-color: #FFFFFF;\n",
              "      --disabled-bg-color: #3B4455;\n",
              "      --disabled-fill-color: #666;\n",
              "  }\n",
              "\n",
              "  .colab-df-quickchart {\n",
              "    background-color: var(--bg-color);\n",
              "    border: none;\n",
              "    border-radius: 50%;\n",
              "    cursor: pointer;\n",
              "    display: none;\n",
              "    fill: var(--fill-color);\n",
              "    height: 32px;\n",
              "    padding: 0;\n",
              "    width: 32px;\n",
              "  }\n",
              "\n",
              "  .colab-df-quickchart:hover {\n",
              "    background-color: var(--hover-bg-color);\n",
              "    box-shadow: 0 1px 2px rgba(60, 64, 67, 0.3), 0 1px 3px 1px rgba(60, 64, 67, 0.15);\n",
              "    fill: var(--button-hover-fill-color);\n",
              "  }\n",
              "\n",
              "  .colab-df-quickchart-complete:disabled,\n",
              "  .colab-df-quickchart-complete:disabled:hover {\n",
              "    background-color: var(--disabled-bg-color);\n",
              "    fill: var(--disabled-fill-color);\n",
              "    box-shadow: none;\n",
              "  }\n",
              "\n",
              "  .colab-df-spinner {\n",
              "    border: 2px solid var(--fill-color);\n",
              "    border-color: transparent;\n",
              "    border-bottom-color: var(--fill-color);\n",
              "    animation:\n",
              "      spin 1s steps(1) infinite;\n",
              "  }\n",
              "\n",
              "  @keyframes spin {\n",
              "    0% {\n",
              "      border-color: transparent;\n",
              "      border-bottom-color: var(--fill-color);\n",
              "      border-left-color: var(--fill-color);\n",
              "    }\n",
              "    20% {\n",
              "      border-color: transparent;\n",
              "      border-left-color: var(--fill-color);\n",
              "      border-top-color: var(--fill-color);\n",
              "    }\n",
              "    30% {\n",
              "      border-color: transparent;\n",
              "      border-left-color: var(--fill-color);\n",
              "      border-top-color: var(--fill-color);\n",
              "      border-right-color: var(--fill-color);\n",
              "    }\n",
              "    40% {\n",
              "      border-color: transparent;\n",
              "      border-right-color: var(--fill-color);\n",
              "      border-top-color: var(--fill-color);\n",
              "    }\n",
              "    60% {\n",
              "      border-color: transparent;\n",
              "      border-right-color: var(--fill-color);\n",
              "    }\n",
              "    80% {\n",
              "      border-color: transparent;\n",
              "      border-right-color: var(--fill-color);\n",
              "      border-bottom-color: var(--fill-color);\n",
              "    }\n",
              "    90% {\n",
              "      border-color: transparent;\n",
              "      border-bottom-color: var(--fill-color);\n",
              "    }\n",
              "  }\n",
              "</style>\n",
              "\n",
              "  <script>\n",
              "    async function quickchart(key) {\n",
              "      const quickchartButtonEl =\n",
              "        document.querySelector('#' + key + ' button');\n",
              "      quickchartButtonEl.disabled = true;  // To prevent multiple clicks.\n",
              "      quickchartButtonEl.classList.add('colab-df-spinner');\n",
              "      try {\n",
              "        const charts = await google.colab.kernel.invokeFunction(\n",
              "            'suggestCharts', [key], {});\n",
              "      } catch (error) {\n",
              "        console.error('Error during call to suggestCharts:', error);\n",
              "      }\n",
              "      quickchartButtonEl.classList.remove('colab-df-spinner');\n",
              "      quickchartButtonEl.classList.add('colab-df-quickchart-complete');\n",
              "    }\n",
              "    (() => {\n",
              "      let quickchartButtonEl =\n",
              "        document.querySelector('#df-f4d5bfc0-5f87-4174-bc90-330ef12345c9 button');\n",
              "      quickchartButtonEl.style.display =\n",
              "        google.colab.kernel.accessAllowed ? 'block' : 'none';\n",
              "    })();\n",
              "  </script>\n",
              "</div>\n",
              "\n",
              "    </div>\n",
              "  </div>\n"
            ],
            "application/vnd.google.colaboratory.intrinsic+json": {
              "type": "dataframe",
              "variable_name": "df",
              "summary": "{\n  \"name\": \"df\",\n  \"rows\": 13353,\n  \"fields\": [\n    {\n      \"column\": \"Form ID\",\n      \"properties\": {\n        \"dtype\": \"category\",\n        \"num_unique_values\": 1539,\n        \"samples\": [\n          \"e01-025\",\n          \"n06-156\",\n          \"g06-037b\"\n        ],\n        \"semantic_type\": \"\",\n        \"description\": \"\"\n      }\n    },\n    {\n      \"column\": \"Line ID\",\n      \"properties\": {\n        \"dtype\": \"string\",\n        \"num_unique_values\": 13353,\n        \"samples\": [\n          \"g03-040-03\",\n          \"p02-069-05\",\n          \"b04-089-06\"\n        ],\n        \"semantic_type\": \"\",\n        \"description\": \"\"\n      }\n    },\n    {\n      \"column\": \"Writer ID\",\n      \"properties\": {\n        \"dtype\": \"number\",\n        \"std\": 188,\n        \"min\": 0,\n        \"max\": 671,\n        \"num_unique_values\": 657,\n        \"samples\": [\n          175,\n          480,\n          499\n        ],\n        \"semantic_type\": \"\",\n        \"description\": \"\"\n      }\n    },\n    {\n      \"column\": \"Text\",\n      \"properties\": {\n        \"dtype\": \"string\",\n        \"num_unique_values\": 12774,\n        \"samples\": [\n          \"of specialists. The ordinary British man\",\n          \"days.\",\n          \"This man agreed that his engagement had\"\n        ],\n        \"semantic_type\": \"\",\n        \"description\": \"\"\n      }\n    },\n    {\n      \"column\": \"Image Path\",\n      \"properties\": {\n        \"dtype\": \"string\",\n        \"num_unique_values\": 13353,\n        \"samples\": [\n          \"/content/gdrive/MyDrive/P3/lines/g03/g03-040/g03-040-03.png\",\n          \"/content/gdrive/MyDrive/P3/lines/p02/p02-069/p02-069-05.png\",\n          \"/content/gdrive/MyDrive/P3/lines/b04/b04-089/b04-089-06.png\"\n        ],\n        \"semantic_type\": \"\",\n        \"description\": \"\"\n      }\n    }\n  ]\n}"
            }
          },
          "metadata": {},
          "execution_count": 12
        }
      ]
    },
    {
      "cell_type": "markdown",
      "source": [
        "Now I am creating pairs of images which will be used for comparison since I am looking for a Yes/No outcome (match/no match) when determining the writers."
      ],
      "metadata": {
        "id": "Kk1ya4gNsFrb"
      }
    },
    {
      "cell_type": "code",
      "source": [
        "pairs = []\n",
        "\n",
        "line_ids = df['Line ID'].tolist()\n",
        "writer_ids = df['Writer ID'].tolist()\n",
        "image_path = df['Image Path'].tolist()\n",
        "\n",
        "for i in range(len(line_ids)):\n",
        "    for j in range(i + 1, len(line_ids)):  # avoiding duplicats\n",
        "        pairs.append({\n",
        "            \"Line ID 1\": line_ids[i],\n",
        "            \"Writer ID 1\": writer_ids[i],\n",
        "            \"Image Path 1\": image_path[i],\n",
        "            \"Line ID 2\": line_ids[j],\n",
        "            \"Writer ID 2\": writer_ids[j],\n",
        "            \"Image Path 2\": image_path[j]\n",
        "        })\n",
        "\n",
        "\n",
        "# to a df (better to save for csv i think?)\n",
        "pairs_df = pd.DataFrame(pairs)\n",
        "\n",
        "pairs_df.head()\n"
      ],
      "metadata": {
        "colab": {
          "base_uri": "https://localhost:8080/"
        },
        "id": "86I_fp6grui_",
        "outputId": "a7192d5e-d064-4920-bfac-f67ad32d6ae1"
      },
      "execution_count": null,
      "outputs": [
        {
          "output_type": "stream",
          "name": "stdout",
          "text": [
            "           Line ID 1  Writer ID 1  \\\n",
            "0         e01-062-00          213   \n",
            "1         e01-062-00          213   \n",
            "2         e01-062-00          213   \n",
            "3         e01-062-00          213   \n",
            "4         e01-062-00          213   \n",
            "...              ...          ...   \n",
            "89144623  e01-081-02          214   \n",
            "89144624  e01-081-02          214   \n",
            "89144625  e01-081-03          214   \n",
            "89144626  e01-081-03          214   \n",
            "89144627  e01-081-04          214   \n",
            "\n",
            "                                               Image Path 1   Line ID 2  \\\n",
            "0         /content/gdrive/MyDrive/P3/lines/e01/e01-062/e...  e01-062-01   \n",
            "1         /content/gdrive/MyDrive/P3/lines/e01/e01-062/e...  e01-062-02   \n",
            "2         /content/gdrive/MyDrive/P3/lines/e01/e01-062/e...  e01-062-03   \n",
            "3         /content/gdrive/MyDrive/P3/lines/e01/e01-062/e...  e01-062-04   \n",
            "4         /content/gdrive/MyDrive/P3/lines/e01/e01-062/e...  e01-062-05   \n",
            "...                                                     ...         ...   \n",
            "89144623  /content/gdrive/MyDrive/P3/lines/e01/e01-081/e...  e01-081-04   \n",
            "89144624  /content/gdrive/MyDrive/P3/lines/e01/e01-081/e...  e01-081-05   \n",
            "89144625  /content/gdrive/MyDrive/P3/lines/e01/e01-081/e...  e01-081-04   \n",
            "89144626  /content/gdrive/MyDrive/P3/lines/e01/e01-081/e...  e01-081-05   \n",
            "89144627  /content/gdrive/MyDrive/P3/lines/e01/e01-081/e...  e01-081-05   \n",
            "\n",
            "          Writer ID 2                                       Image Path 2  \n",
            "0                 213  /content/gdrive/MyDrive/P3/lines/e01/e01-062/e...  \n",
            "1                 213  /content/gdrive/MyDrive/P3/lines/e01/e01-062/e...  \n",
            "2                 213  /content/gdrive/MyDrive/P3/lines/e01/e01-062/e...  \n",
            "3                 213  /content/gdrive/MyDrive/P3/lines/e01/e01-062/e...  \n",
            "4                 213  /content/gdrive/MyDrive/P3/lines/e01/e01-062/e...  \n",
            "...               ...                                                ...  \n",
            "89144623          214  /content/gdrive/MyDrive/P3/lines/e01/e01-081/e...  \n",
            "89144624          214  /content/gdrive/MyDrive/P3/lines/e01/e01-081/e...  \n",
            "89144625          214  /content/gdrive/MyDrive/P3/lines/e01/e01-081/e...  \n",
            "89144626          214  /content/gdrive/MyDrive/P3/lines/e01/e01-081/e...  \n",
            "89144627          214  /content/gdrive/MyDrive/P3/lines/e01/e01-081/e...  \n",
            "\n",
            "[89144628 rows x 6 columns]\n"
          ]
        }
      ]
    },
    {
      "cell_type": "code",
      "source": [
        "pairs_df.to_csv('/content/gdrive/MyDrive/P3/pairs.csv', index=False)\n"
      ],
      "metadata": {
        "id": "mJI1hMnTs2qa"
      },
      "execution_count": null,
      "outputs": []
    },
    {
      "cell_type": "markdown",
      "source": [
        "Obviously this is a huge daataset with 89 million pairs. I would probably choose some randomly because this is way too many to go through. Right now, I'm selecting 30,000 pairs WITH replacement."
      ],
      "metadata": {
        "id": "cpXpFqfhs9n4"
      }
    },
    {
      "cell_type": "code",
      "source": [
        "list1 = list(range(pairs_df.shape[0]))\n",
        "list_indices = random.choices(list1, k = 30000)"
      ],
      "metadata": {
        "id": "X8MNXzJSu92f"
      },
      "execution_count": null,
      "outputs": []
    },
    {
      "cell_type": "code",
      "source": [
        "indices_df = pd.DataFrame(list_indices, columns=[\"Index\"])\n",
        "file_path = '/content/gdrive/MyDrive/P3/list_indices.csv'\n",
        "indices_df.to_csv(file_path, index=False)"
      ],
      "metadata": {
        "id": "JEWsqud5JUtg"
      },
      "execution_count": null,
      "outputs": []
    },
    {
      "cell_type": "markdown",
      "source": [
        "### Filtering to randomly select pairs"
      ],
      "metadata": {
        "id": "pjzRiGtBZlKK"
      }
    },
    {
      "cell_type": "code",
      "source": [
        "filtered_pairs_df = pairs_df.iloc[indices_df['Index']]\n",
        "filtered_pairs_df #30,000 rows! worked correctly :)"
      ],
      "metadata": {
        "colab": {
          "base_uri": "https://localhost:8080/",
          "height": 418
        },
        "id": "foq2LpeRK0Rr",
        "outputId": "edf8a0e8-02a9-42c3-ecb4-0f4f67ec2e41"
      },
      "execution_count": null,
      "outputs": [
        {
          "output_type": "error",
          "ename": "IndexError",
          "evalue": "positional indexers are out-of-bounds",
          "traceback": [
            "\u001b[0;31m---------------------------------------------------------------------------\u001b[0m",
            "\u001b[0;31mIndexError\u001b[0m                                Traceback (most recent call last)",
            "\u001b[0;32m/usr/local/lib/python3.10/dist-packages/pandas/core/indexing.py\u001b[0m in \u001b[0;36m_get_list_axis\u001b[0;34m(self, key, axis)\u001b[0m\n\u001b[1;32m   1713\u001b[0m         \u001b[0;32mtry\u001b[0m\u001b[0;34m:\u001b[0m\u001b[0;34m\u001b[0m\u001b[0;34m\u001b[0m\u001b[0m\n\u001b[0;32m-> 1714\u001b[0;31m             \u001b[0;32mreturn\u001b[0m \u001b[0mself\u001b[0m\u001b[0;34m.\u001b[0m\u001b[0mobj\u001b[0m\u001b[0;34m.\u001b[0m\u001b[0m_take_with_is_copy\u001b[0m\u001b[0;34m(\u001b[0m\u001b[0mkey\u001b[0m\u001b[0;34m,\u001b[0m \u001b[0maxis\u001b[0m\u001b[0;34m=\u001b[0m\u001b[0maxis\u001b[0m\u001b[0;34m)\u001b[0m\u001b[0;34m\u001b[0m\u001b[0;34m\u001b[0m\u001b[0m\n\u001b[0m\u001b[1;32m   1715\u001b[0m         \u001b[0;32mexcept\u001b[0m \u001b[0mIndexError\u001b[0m \u001b[0;32mas\u001b[0m \u001b[0merr\u001b[0m\u001b[0;34m:\u001b[0m\u001b[0;34m\u001b[0m\u001b[0;34m\u001b[0m\u001b[0m\n",
            "\u001b[0;32m/usr/local/lib/python3.10/dist-packages/pandas/core/generic.py\u001b[0m in \u001b[0;36m_take_with_is_copy\u001b[0;34m(self, indices, axis)\u001b[0m\n\u001b[1;32m   4152\u001b[0m         \"\"\"\n\u001b[0;32m-> 4153\u001b[0;31m         \u001b[0mresult\u001b[0m \u001b[0;34m=\u001b[0m \u001b[0mself\u001b[0m\u001b[0;34m.\u001b[0m\u001b[0mtake\u001b[0m\u001b[0;34m(\u001b[0m\u001b[0mindices\u001b[0m\u001b[0;34m=\u001b[0m\u001b[0mindices\u001b[0m\u001b[0;34m,\u001b[0m \u001b[0maxis\u001b[0m\u001b[0;34m=\u001b[0m\u001b[0maxis\u001b[0m\u001b[0;34m)\u001b[0m\u001b[0;34m\u001b[0m\u001b[0;34m\u001b[0m\u001b[0m\n\u001b[0m\u001b[1;32m   4154\u001b[0m         \u001b[0;31m# Maybe set copy if we didn't actually change the index.\u001b[0m\u001b[0;34m\u001b[0m\u001b[0;34m\u001b[0m\u001b[0m\n",
            "\u001b[0;32m/usr/local/lib/python3.10/dist-packages/pandas/core/generic.py\u001b[0m in \u001b[0;36mtake\u001b[0;34m(self, indices, axis, **kwargs)\u001b[0m\n\u001b[1;32m   4132\u001b[0m \u001b[0;34m\u001b[0m\u001b[0m\n\u001b[0;32m-> 4133\u001b[0;31m         new_data = self._mgr.take(\n\u001b[0m\u001b[1;32m   4134\u001b[0m             \u001b[0mindices\u001b[0m\u001b[0;34m,\u001b[0m\u001b[0;34m\u001b[0m\u001b[0;34m\u001b[0m\u001b[0m\n",
            "\u001b[0;32m/usr/local/lib/python3.10/dist-packages/pandas/core/internals/managers.py\u001b[0m in \u001b[0;36mtake\u001b[0;34m(self, indexer, axis, verify)\u001b[0m\n\u001b[1;32m    890\u001b[0m         \u001b[0mn\u001b[0m \u001b[0;34m=\u001b[0m \u001b[0mself\u001b[0m\u001b[0;34m.\u001b[0m\u001b[0mshape\u001b[0m\u001b[0;34m[\u001b[0m\u001b[0maxis\u001b[0m\u001b[0;34m]\u001b[0m\u001b[0;34m\u001b[0m\u001b[0;34m\u001b[0m\u001b[0m\n\u001b[0;32m--> 891\u001b[0;31m         \u001b[0mindexer\u001b[0m \u001b[0;34m=\u001b[0m \u001b[0mmaybe_convert_indices\u001b[0m\u001b[0;34m(\u001b[0m\u001b[0mindexer\u001b[0m\u001b[0;34m,\u001b[0m \u001b[0mn\u001b[0m\u001b[0;34m,\u001b[0m \u001b[0mverify\u001b[0m\u001b[0;34m=\u001b[0m\u001b[0mverify\u001b[0m\u001b[0;34m)\u001b[0m\u001b[0;34m\u001b[0m\u001b[0;34m\u001b[0m\u001b[0m\n\u001b[0m\u001b[1;32m    892\u001b[0m \u001b[0;34m\u001b[0m\u001b[0m\n",
            "\u001b[0;32m/usr/local/lib/python3.10/dist-packages/pandas/core/indexers/utils.py\u001b[0m in \u001b[0;36mmaybe_convert_indices\u001b[0;34m(indices, n, verify)\u001b[0m\n\u001b[1;32m    281\u001b[0m         \u001b[0;32mif\u001b[0m \u001b[0mmask\u001b[0m\u001b[0;34m.\u001b[0m\u001b[0many\u001b[0m\u001b[0;34m(\u001b[0m\u001b[0;34m)\u001b[0m\u001b[0;34m:\u001b[0m\u001b[0;34m\u001b[0m\u001b[0;34m\u001b[0m\u001b[0m\n\u001b[0;32m--> 282\u001b[0;31m             \u001b[0;32mraise\u001b[0m \u001b[0mIndexError\u001b[0m\u001b[0;34m(\u001b[0m\u001b[0;34m\"indices are out-of-bounds\"\u001b[0m\u001b[0;34m)\u001b[0m\u001b[0;34m\u001b[0m\u001b[0;34m\u001b[0m\u001b[0m\n\u001b[0m\u001b[1;32m    283\u001b[0m     \u001b[0;32mreturn\u001b[0m \u001b[0mindices\u001b[0m\u001b[0;34m\u001b[0m\u001b[0;34m\u001b[0m\u001b[0m\n",
            "\u001b[0;31mIndexError\u001b[0m: indices are out-of-bounds",
            "\nThe above exception was the direct cause of the following exception:\n",
            "\u001b[0;31mIndexError\u001b[0m                                Traceback (most recent call last)",
            "\u001b[0;32m<ipython-input-29-0b2c54e57a83>\u001b[0m in \u001b[0;36m<cell line: 1>\u001b[0;34m()\u001b[0m\n\u001b[0;32m----> 1\u001b[0;31m \u001b[0mfiltered_pairs_df\u001b[0m \u001b[0;34m=\u001b[0m \u001b[0mpairs_df\u001b[0m\u001b[0;34m.\u001b[0m\u001b[0miloc\u001b[0m\u001b[0;34m[\u001b[0m\u001b[0mindices_df\u001b[0m\u001b[0;34m[\u001b[0m\u001b[0;34m'Index'\u001b[0m\u001b[0;34m]\u001b[0m\u001b[0;34m]\u001b[0m\u001b[0;34m\u001b[0m\u001b[0;34m\u001b[0m\u001b[0m\n\u001b[0m\u001b[1;32m      2\u001b[0m \u001b[0mfiltered_pairs_df\u001b[0m \u001b[0;31m#30,000 rows! worked correctly :)\u001b[0m\u001b[0;34m\u001b[0m\u001b[0;34m\u001b[0m\u001b[0m\n",
            "\u001b[0;32m/usr/local/lib/python3.10/dist-packages/pandas/core/indexing.py\u001b[0m in \u001b[0;36m__getitem__\u001b[0;34m(self, key)\u001b[0m\n\u001b[1;32m   1189\u001b[0m             \u001b[0mmaybe_callable\u001b[0m \u001b[0;34m=\u001b[0m \u001b[0mcom\u001b[0m\u001b[0;34m.\u001b[0m\u001b[0mapply_if_callable\u001b[0m\u001b[0;34m(\u001b[0m\u001b[0mkey\u001b[0m\u001b[0;34m,\u001b[0m \u001b[0mself\u001b[0m\u001b[0;34m.\u001b[0m\u001b[0mobj\u001b[0m\u001b[0;34m)\u001b[0m\u001b[0;34m\u001b[0m\u001b[0;34m\u001b[0m\u001b[0m\n\u001b[1;32m   1190\u001b[0m             \u001b[0mmaybe_callable\u001b[0m \u001b[0;34m=\u001b[0m \u001b[0mself\u001b[0m\u001b[0;34m.\u001b[0m\u001b[0m_check_deprecated_callable_usage\u001b[0m\u001b[0;34m(\u001b[0m\u001b[0mkey\u001b[0m\u001b[0;34m,\u001b[0m \u001b[0mmaybe_callable\u001b[0m\u001b[0;34m)\u001b[0m\u001b[0;34m\u001b[0m\u001b[0;34m\u001b[0m\u001b[0m\n\u001b[0;32m-> 1191\u001b[0;31m             \u001b[0;32mreturn\u001b[0m \u001b[0mself\u001b[0m\u001b[0;34m.\u001b[0m\u001b[0m_getitem_axis\u001b[0m\u001b[0;34m(\u001b[0m\u001b[0mmaybe_callable\u001b[0m\u001b[0;34m,\u001b[0m \u001b[0maxis\u001b[0m\u001b[0;34m=\u001b[0m\u001b[0maxis\u001b[0m\u001b[0;34m)\u001b[0m\u001b[0;34m\u001b[0m\u001b[0;34m\u001b[0m\u001b[0m\n\u001b[0m\u001b[1;32m   1192\u001b[0m \u001b[0;34m\u001b[0m\u001b[0m\n\u001b[1;32m   1193\u001b[0m     \u001b[0;32mdef\u001b[0m \u001b[0m_is_scalar_access\u001b[0m\u001b[0;34m(\u001b[0m\u001b[0mself\u001b[0m\u001b[0;34m,\u001b[0m \u001b[0mkey\u001b[0m\u001b[0;34m:\u001b[0m \u001b[0mtuple\u001b[0m\u001b[0;34m)\u001b[0m\u001b[0;34m:\u001b[0m\u001b[0;34m\u001b[0m\u001b[0;34m\u001b[0m\u001b[0m\n",
            "\u001b[0;32m/usr/local/lib/python3.10/dist-packages/pandas/core/indexing.py\u001b[0m in \u001b[0;36m_getitem_axis\u001b[0;34m(self, key, axis)\u001b[0m\n\u001b[1;32m   1741\u001b[0m         \u001b[0;31m# a list of integers\u001b[0m\u001b[0;34m\u001b[0m\u001b[0;34m\u001b[0m\u001b[0m\n\u001b[1;32m   1742\u001b[0m         \u001b[0;32melif\u001b[0m \u001b[0mis_list_like_indexer\u001b[0m\u001b[0;34m(\u001b[0m\u001b[0mkey\u001b[0m\u001b[0;34m)\u001b[0m\u001b[0;34m:\u001b[0m\u001b[0;34m\u001b[0m\u001b[0;34m\u001b[0m\u001b[0m\n\u001b[0;32m-> 1743\u001b[0;31m             \u001b[0;32mreturn\u001b[0m \u001b[0mself\u001b[0m\u001b[0;34m.\u001b[0m\u001b[0m_get_list_axis\u001b[0m\u001b[0;34m(\u001b[0m\u001b[0mkey\u001b[0m\u001b[0;34m,\u001b[0m \u001b[0maxis\u001b[0m\u001b[0;34m=\u001b[0m\u001b[0maxis\u001b[0m\u001b[0;34m)\u001b[0m\u001b[0;34m\u001b[0m\u001b[0;34m\u001b[0m\u001b[0m\n\u001b[0m\u001b[1;32m   1744\u001b[0m \u001b[0;34m\u001b[0m\u001b[0m\n\u001b[1;32m   1745\u001b[0m         \u001b[0;31m# a single integer\u001b[0m\u001b[0;34m\u001b[0m\u001b[0;34m\u001b[0m\u001b[0m\n",
            "\u001b[0;32m/usr/local/lib/python3.10/dist-packages/pandas/core/indexing.py\u001b[0m in \u001b[0;36m_get_list_axis\u001b[0;34m(self, key, axis)\u001b[0m\n\u001b[1;32m   1715\u001b[0m         \u001b[0;32mexcept\u001b[0m \u001b[0mIndexError\u001b[0m \u001b[0;32mas\u001b[0m \u001b[0merr\u001b[0m\u001b[0;34m:\u001b[0m\u001b[0;34m\u001b[0m\u001b[0;34m\u001b[0m\u001b[0m\n\u001b[1;32m   1716\u001b[0m             \u001b[0;31m# re-raise with different error message, e.g. test_getitem_ndarray_3d\u001b[0m\u001b[0;34m\u001b[0m\u001b[0;34m\u001b[0m\u001b[0m\n\u001b[0;32m-> 1717\u001b[0;31m             \u001b[0;32mraise\u001b[0m \u001b[0mIndexError\u001b[0m\u001b[0;34m(\u001b[0m\u001b[0;34m\"positional indexers are out-of-bounds\"\u001b[0m\u001b[0;34m)\u001b[0m \u001b[0;32mfrom\u001b[0m \u001b[0merr\u001b[0m\u001b[0;34m\u001b[0m\u001b[0;34m\u001b[0m\u001b[0m\n\u001b[0m\u001b[1;32m   1718\u001b[0m \u001b[0;34m\u001b[0m\u001b[0m\n\u001b[1;32m   1719\u001b[0m     \u001b[0;32mdef\u001b[0m \u001b[0m_getitem_axis\u001b[0m\u001b[0;34m(\u001b[0m\u001b[0mself\u001b[0m\u001b[0;34m,\u001b[0m \u001b[0mkey\u001b[0m\u001b[0;34m,\u001b[0m \u001b[0maxis\u001b[0m\u001b[0;34m:\u001b[0m \u001b[0mAxisInt\u001b[0m\u001b[0;34m)\u001b[0m\u001b[0;34m:\u001b[0m\u001b[0;34m\u001b[0m\u001b[0;34m\u001b[0m\u001b[0m\n",
            "\u001b[0;31mIndexError\u001b[0m: positional indexers are out-of-bounds"
          ]
        }
      ]
    },
    {
      "cell_type": "markdown",
      "source": [
        "### Preprocessing images\n",
        "\n",
        "The images came segmented, so I resized the images to start. I read in the images in grayscale because they were scanned as such in the original dataset. This also would make it theoretically easier to add images to the dataset in the future (for example if there were photocopies used or something, the inputs would be more standardized). In my opinion, ink color could actually decrease the effectiveness of the writer detection by confusing the model."
      ],
      "metadata": {
        "id": "uwXBo0mXaOqi"
      }
    },
    {
      "cell_type": "code",
      "source": [
        "def preprocess_image(image_path, target_size=(128, 128)):\n",
        "    # reading in the image in grayscale\n",
        "    img = cv2.imread(image_path, cv2.IMREAD_GRAYSCALE)\n",
        "    if img is None:\n",
        "        print(f\"Error: Could not load image from {image_path}\")\n",
        "        return None\n",
        "\n",
        "    # resized to target of 128x128\n",
        "    img_resized = cv2.resize(img, target_size)\n",
        "\n",
        "    # normalized values pixel values to range [0, 1]\n",
        "    img_normalized = img_resized / 255.0 #(used float so it will turn into a float)\n",
        "\n",
        "    return img_normalized\n"
      ],
      "metadata": {
        "id": "MeI5smz0usaG"
      },
      "execution_count": null,
      "outputs": []
    },
    {
      "cell_type": "markdown",
      "source": [
        "Below, I am trying out my code to see if the preprocessing works and get an idea of the time."
      ],
      "metadata": {
        "id": "g26bhFNnxmUk"
      }
    },
    {
      "cell_type": "code",
      "source": [
        "subset_filtered = filtered_pairs_df.iloc[:25]"
      ],
      "metadata": {
        "id": "TGPXJPrUd9bI"
      },
      "execution_count": null,
      "outputs": []
    },
    {
      "cell_type": "code",
      "source": [
        "subset_filtered['Image 1 Array'] = subset_filtered['Image Path 1'].apply(preprocess_image)\n",
        "subset_filtered['Image 2 Array'] = subset_filtered['Image Path 2'].apply(preprocess_image)\n",
        "print(subset_filtered.head())\n"
      ],
      "metadata": {
        "colab": {
          "base_uri": "https://localhost:8080/"
        },
        "id": "eZvxKj0ceNCK",
        "outputId": "b13e8035-21f8-4cc6-eed7-0e3f9b17a2f8"
      },
      "execution_count": null,
      "outputs": [
        {
          "output_type": "stream",
          "name": "stderr",
          "text": [
            "<ipython-input-32-c13878bce522>:1: SettingWithCopyWarning: \n",
            "A value is trying to be set on a copy of a slice from a DataFrame.\n",
            "Try using .loc[row_indexer,col_indexer] = value instead\n",
            "\n",
            "See the caveats in the documentation: https://pandas.pydata.org/pandas-docs/stable/user_guide/indexing.html#returning-a-view-versus-a-copy\n",
            "  subset_filtered['Image 1 Array'] = subset_filtered['Image Path 1'].apply(preprocess_image)\n",
            "<ipython-input-32-c13878bce522>:2: SettingWithCopyWarning: \n",
            "A value is trying to be set on a copy of a slice from a DataFrame.\n",
            "Try using .loc[row_indexer,col_indexer] = value instead\n",
            "\n",
            "See the caveats in the documentation: https://pandas.pydata.org/pandas-docs/stable/user_guide/indexing.html#returning-a-view-versus-a-copy\n",
            "  subset_filtered['Image 2 Array'] = subset_filtered['Image Path 2'].apply(preprocess_image)\n"
          ]
        },
        {
          "output_type": "stream",
          "name": "stdout",
          "text": [
            "    Line ID 1  Writer ID 1                                       Image Path 1  \\\n",
            "0  g03-043-07          314  /content/gdrive/MyDrive/P3/lines/g03/g03-043/g...   \n",
            "1  h07-080-05          391  /content/gdrive/MyDrive/P3/lines/h07/h07-080/h...   \n",
            "2  m04-131-03          547  /content/gdrive/MyDrive/P3/lines/m04/m04-131/m...   \n",
            "3  r03-110-07          668  /content/gdrive/MyDrive/P3/lines/r03/r03-110/r...   \n",
            "4  e04-119-02          243  /content/gdrive/MyDrive/P3/lines/e04/e04-119/e...   \n",
            "\n",
            "     Line ID 2  Writer ID 2  \\\n",
            "0   m02-095-09          532   \n",
            "1   m04-209-05          549   \n",
            "2   n04-039-05          582   \n",
            "3   b04-004-05          107   \n",
            "4  g06-037l-08          343   \n",
            "\n",
            "                                        Image Path 2  \\\n",
            "0  /content/gdrive/MyDrive/P3/lines/m02/m02-095/m...   \n",
            "1  /content/gdrive/MyDrive/P3/lines/m04/m04-209/m...   \n",
            "2  /content/gdrive/MyDrive/P3/lines/n04/n04-039/n...   \n",
            "3  /content/gdrive/MyDrive/P3/lines/b04/b04-004/b...   \n",
            "4  /content/gdrive/MyDrive/P3/lines/g06/g06-037l/...   \n",
            "\n",
            "                                       Image 1 Array  \\\n",
            "0  [[1.0, 1.0, 1.0, 1.0, 1.0, 1.0, 1.0, 1.0, 1.0,...   \n",
            "1  [[1.0, 1.0, 1.0, 1.0, 1.0, 1.0, 1.0, 1.0, 1.0,...   \n",
            "2  [[1.0, 1.0, 1.0, 1.0, 1.0, 1.0, 1.0, 1.0, 1.0,...   \n",
            "3  [[1.0, 1.0, 1.0, 1.0, 1.0, 1.0, 1.0, 1.0, 1.0,...   \n",
            "4  [[1.0, 1.0, 1.0, 1.0, 1.0, 1.0, 1.0, 1.0, 1.0,...   \n",
            "\n",
            "                                       Image 2 Array  \n",
            "0  [[0.9725490196078431, 0.9568627450980393, 0.96...  \n",
            "1  [[1.0, 1.0, 1.0, 1.0, 1.0, 1.0, 1.0, 1.0, 1.0,...  \n",
            "2  [[1.0, 1.0, 1.0, 1.0, 1.0, 1.0, 1.0, 1.0, 1.0,...  \n",
            "3  [[1.0, 1.0, 1.0, 1.0, 1.0, 1.0, 1.0, 1.0, 1.0,...  \n",
            "4  [[1.0, 1.0, 1.0, 1.0, 1.0, 1.0, 1.0, 1.0, 1.0,...  \n"
          ]
        }
      ]
    },
    {
      "cell_type": "markdown",
      "source": [
        "Example image... wondering if the warped shape will have a negative impact. Hopefully not, it'll be the same thing applied to each of them!"
      ],
      "metadata": {
        "id": "yXOqdDAz-_6F"
      }
    },
    {
      "cell_type": "code",
      "source": [
        "image1 = np.array(subset_filtered.iloc[0]['Image 1 Array']).reshape(128, 128)\n",
        "\n",
        "plt.imshow(image1, cmap='gray')\n",
        "plt.show()"
      ],
      "metadata": {
        "colab": {
          "base_uri": "https://localhost:8080/",
          "height": 434
        },
        "id": "D94Pikt0e4dd",
        "outputId": "7d84c2e9-c351-4d8b-9fd9-bba8a909e212"
      },
      "execution_count": null,
      "outputs": [
        {
          "output_type": "display_data",
          "data": {
            "text/plain": [
              "<Figure size 640x480 with 1 Axes>"
            ],
            "image/png": "[encoded data removed]"
          },
          "metadata": {}
        }
      ]
    },
    {
      "cell_type": "code",
      "source": [
        "filtered_pairs_df.to_csv('/content/gdrive/MyDrive/P3/filtered_30k.csv', index=False)"
      ],
      "metadata": {
        "id": "07rLXZljCYvg"
      },
      "execution_count": null,
      "outputs": []
    },
    {
      "cell_type": "markdown",
      "source": [
        "Due to time constraints (image processing was predicted to take 7 hours for 30k pairs 🥲), I started with around 8000 pairs. Below, I augment the dataset's matching pairs."
      ],
      "metadata": {
        "id": "zBHKDx2nBDH2"
      }
    },
    {
      "cell_type": "code",
      "source": [
        "filtered_pairs_df.columns\n",
        "matching_rows = filtered_pairs_df[filtered_pairs_df['Writer ID 1'] == filtered_pairs_df['Writer ID 2']]\n",
        "\n",
        "row_nums = matching_rows.index[:200] #augmenting the dataset"
      ],
      "metadata": {
        "id": "nLtxo5nzFrrG"
      },
      "execution_count": null,
      "outputs": []
    },
    {
      "cell_type": "code",
      "source": [
        "subset_filtered_real = filtered_pairs_df.iloc[:8000]\n",
        "rows_to_append = filtered_pairs_df.loc[row_nums]\n",
        "\n",
        "subset_filtered_real = pd.concat([subset_filtered_real, rows_to_append]) #concatenate to add these rows"
      ],
      "metadata": {
        "colab": {
          "base_uri": "https://localhost:8080/"
        },
        "id": "Jo4MhxGzgF0X",
        "outputId": "5e3b15cb-9189-48cc-989a-041c00195a25"
      },
      "execution_count": null,
      "outputs": [
        {
          "output_type": "stream",
          "name": "stdout",
          "text": [
            "         Line ID 1  Writer ID 1  \\\n",
            "0       g03-043-07          314   \n",
            "1       h07-080-05          391   \n",
            "2       m04-131-03          547   \n",
            "3       r03-110-07          668   \n",
            "4       e04-119-02          243   \n",
            "...            ...          ...   \n",
            "28960  a01-128u-09            0   \n",
            "28974   b06-019-01          128   \n",
            "29062  g06-011l-01          343   \n",
            "29365  a01-049x-10            0   \n",
            "29894  c03-003b-04          151   \n",
            "\n",
            "                                            Image Path 1    Line ID 2  \\\n",
            "0      /content/gdrive/MyDrive/P3/lines/g03/g03-043/g...   m02-095-09   \n",
            "1      /content/gdrive/MyDrive/P3/lines/h07/h07-080/h...   m04-209-05   \n",
            "2      /content/gdrive/MyDrive/P3/lines/m04/m04-131/m...   n04-039-05   \n",
            "3      /content/gdrive/MyDrive/P3/lines/r03/r03-110/r...   b04-004-05   \n",
            "4      /content/gdrive/MyDrive/P3/lines/e04/e04-119/e...  g06-037l-08   \n",
            "...                                                  ...          ...   \n",
            "28960  /content/gdrive/MyDrive/P3/lines/a01/a01-128u/...   a05-116-07   \n",
            "28974  /content/gdrive/MyDrive/P3/lines/b06/b06-019/b...   c06-027-00   \n",
            "29062  /content/gdrive/MyDrive/P3/lines/g06/g06-011l/...  g06-037l-03   \n",
            "29365  /content/gdrive/MyDrive/P3/lines/a01/a01-049x/...   a05-053-09   \n",
            "29894  /content/gdrive/MyDrive/P3/lines/c03/c03-003b/...  c03-084b-04   \n",
            "\n",
            "       Writer ID 2                                       Image Path 2  \n",
            "0              532  /content/gdrive/MyDrive/P3/lines/m02/m02-095/m...  \n",
            "1              549  /content/gdrive/MyDrive/P3/lines/m04/m04-209/m...  \n",
            "2              582  /content/gdrive/MyDrive/P3/lines/n04/n04-039/n...  \n",
            "3              107  /content/gdrive/MyDrive/P3/lines/b04/b04-004/b...  \n",
            "4              343  /content/gdrive/MyDrive/P3/lines/g06/g06-037l/...  \n",
            "...            ...                                                ...  \n",
            "28960            0  /content/gdrive/MyDrive/P3/lines/a05/a05-116/a...  \n",
            "28974          128  /content/gdrive/MyDrive/P3/lines/c06/c06-027/c...  \n",
            "29062          343  /content/gdrive/MyDrive/P3/lines/g06/g06-037l/...  \n",
            "29365            0  /content/gdrive/MyDrive/P3/lines/a05/a05-053/a...  \n",
            "29894          151  /content/gdrive/MyDrive/P3/lines/c03/c03-084b/...  \n",
            "\n",
            "[8135 rows x 6 columns]\n"
          ]
        }
      ]
    },
    {
      "cell_type": "code",
      "source": [
        "labels = (subset_filtered_real[\"Writer ID 1\"] == subset_filtered_real[\"Writer ID 2\"]).astype(int)\n",
        "np.unique(labels, return_counts=True)"
      ],
      "metadata": {
        "colab": {
          "base_uri": "https://localhost:8080/"
        },
        "id": "_OhJRrTiHJo-",
        "outputId": "d2b6b5c0-65c4-4088-d4af-f91d7368e78c"
      },
      "execution_count": null,
      "outputs": [
        {
          "output_type": "execute_result",
          "data": {
            "text/plain": [
              "(array([0, 1]), array([7964,  171]))"
            ]
          },
          "metadata": {},
          "execution_count": 99
        }
      ]
    },
    {
      "cell_type": "code",
      "source": [
        "#im7 = pre_images['/content/gdrive/MyDrive/P3/lines/f07/f07-028a/f07-028a-02.png'] just testing something here"
      ],
      "metadata": {
        "id": "APNEUSepidra"
      },
      "execution_count": null,
      "outputs": []
    },
    {
      "cell_type": "code",
      "source": [
        "pre_images = {}\n",
        "start = time.time()\n",
        "for i, path in enumerate(set(subset_filtered_real['Image Path 1']).union(set(subset_filtered_real['Image Path 2']))): #all of the paths used\n",
        "  pre_images[path] = preprocess_image(path)\n",
        "  pd.DataFrame(pre_images[path]).to_csv(path.split('.png')[0]+'.csv') #should save to a csv with commas intact\n",
        "  if i % 50 == 0:\n",
        "    print(i)\n",
        "    print(f\"Time elapsed: {time.time() - start} seconds\") #getting idea of time"
      ],
      "metadata": {
        "colab": {
          "base_uri": "https://localhost:8080/"
        },
        "id": "eHsAYlYWHPAD",
        "outputId": "c28f0469-1fa0-4c78-99b1-30e66dc05056"
      },
      "execution_count": null,
      "outputs": [
        {
          "output_type": "stream",
          "name": "stdout",
          "text": [
            "0\n",
            "Time elapsed: 0.024152040481567383 seconds\n",
            "50\n",
            "Time elapsed: 1.2039203643798828 seconds\n",
            "100\n",
            "Time elapsed: 33.59001874923706 seconds\n",
            "150\n",
            "Time elapsed: 82.93981766700745 seconds\n",
            "200\n",
            "Time elapsed: 130.91678404808044 seconds\n",
            "250\n",
            "Time elapsed: 182.76756858825684 seconds\n",
            "300\n",
            "Time elapsed: 230.6399257183075 seconds\n",
            "350\n",
            "Time elapsed: 279.43396162986755 seconds\n",
            "400\n",
            "Time elapsed: 329.3410544395447 seconds\n",
            "450\n",
            "Time elapsed: 377.74485206604004 seconds\n",
            "500\n",
            "Time elapsed: 425.00610995292664 seconds\n",
            "550\n",
            "Time elapsed: 473.54866909980774 seconds\n",
            "600\n",
            "Time elapsed: 521.0999915599823 seconds\n",
            "650\n",
            "Time elapsed: 568.7176351547241 seconds\n",
            "700\n",
            "Time elapsed: 616.0785112380981 seconds\n",
            "750\n",
            "Time elapsed: 662.2827990055084 seconds\n",
            "800\n",
            "Time elapsed: 709.7393600940704 seconds\n",
            "850\n",
            "Time elapsed: 757.5043566226959 seconds\n",
            "900\n",
            "Time elapsed: 801.9212477207184 seconds\n",
            "950\n",
            "Time elapsed: 847.5827708244324 seconds\n",
            "1000\n",
            "Time elapsed: 895.33611536026 seconds\n",
            "1050\n",
            "Time elapsed: 942.8040194511414 seconds\n",
            "1100\n",
            "Time elapsed: 991.0153205394745 seconds\n",
            "1150\n",
            "Time elapsed: 1041.044946193695 seconds\n",
            "1200\n",
            "Time elapsed: 1087.2785353660583 seconds\n",
            "1250\n",
            "Time elapsed: 1132.5665018558502 seconds\n",
            "1300\n",
            "Time elapsed: 1179.513168334961 seconds\n",
            "1350\n",
            "Time elapsed: 1224.1351408958435 seconds\n",
            "1400\n",
            "Time elapsed: 1269.149301290512 seconds\n",
            "1450\n",
            "Time elapsed: 1313.5077438354492 seconds\n",
            "1500\n",
            "Time elapsed: 1359.8725035190582 seconds\n",
            "1550\n",
            "Time elapsed: 1403.2464792728424 seconds\n",
            "1600\n",
            "Time elapsed: 1447.178362607956 seconds\n",
            "1650\n",
            "Time elapsed: 1492.3277113437653 seconds\n",
            "1700\n",
            "Time elapsed: 1536.0499675273895 seconds\n",
            "1750\n",
            "Time elapsed: 1581.2895538806915 seconds\n",
            "1800\n",
            "Time elapsed: 1626.1373136043549 seconds\n",
            "1850\n",
            "Time elapsed: 1671.292580127716 seconds\n",
            "1900\n",
            "Time elapsed: 1715.9484632015228 seconds\n",
            "1950\n",
            "Time elapsed: 1760.663723707199 seconds\n",
            "2000\n",
            "Time elapsed: 1805.4307131767273 seconds\n",
            "2050\n",
            "Time elapsed: 1846.749403476715 seconds\n",
            "2100\n",
            "Time elapsed: 1889.6020226478577 seconds\n",
            "2150\n",
            "Time elapsed: 1933.4158561229706 seconds\n",
            "2200\n",
            "Time elapsed: 1978.5502107143402 seconds\n",
            "2250\n",
            "Time elapsed: 2021.947966337204 seconds\n",
            "2300\n",
            "Time elapsed: 2067.1958022117615 seconds\n",
            "2350\n",
            "Time elapsed: 2113.3504676818848 seconds\n",
            "2400\n",
            "Time elapsed: 2156.4098558425903 seconds\n",
            "2450\n",
            "Time elapsed: 2200.9479484558105 seconds\n",
            "2500\n",
            "Time elapsed: 2246.343298435211 seconds\n",
            "2550\n",
            "Time elapsed: 2290.9034864902496 seconds\n",
            "2600\n",
            "Time elapsed: 2339.0780279636383 seconds\n",
            "2650\n",
            "Time elapsed: 2381.1378531455994 seconds\n",
            "2700\n",
            "Time elapsed: 2424.4064989089966 seconds\n",
            "2750\n",
            "Time elapsed: 2465.3989295959473 seconds\n",
            "2800\n",
            "Time elapsed: 2507.519608974457 seconds\n",
            "2850\n",
            "Time elapsed: 2548.9367582798004 seconds\n",
            "2900\n",
            "Time elapsed: 2592.066045999527 seconds\n",
            "2950\n",
            "Time elapsed: 2636.1291465759277 seconds\n",
            "3000\n",
            "Time elapsed: 2679.3604776859283 seconds\n",
            "3050\n",
            "Time elapsed: 2722.8558297157288 seconds\n",
            "3100\n",
            "Time elapsed: 2765.070381164551 seconds\n",
            "3150\n",
            "Time elapsed: 2807.7471828460693 seconds\n",
            "3200\n",
            "Time elapsed: 2850.1658947467804 seconds\n",
            "3250\n",
            "Time elapsed: 2892.854462146759 seconds\n",
            "3300\n",
            "Time elapsed: 2937.1673703193665 seconds\n",
            "3350\n",
            "Time elapsed: 2979.2212936878204 seconds\n",
            "3400\n",
            "Time elapsed: 3021.1374192237854 seconds\n",
            "3450\n",
            "Time elapsed: 3063.745651245117 seconds\n",
            "3500\n",
            "Time elapsed: 3107.6136662960052 seconds\n",
            "3550\n",
            "Time elapsed: 3150.3510324954987 seconds\n",
            "3600\n",
            "Time elapsed: 3192.3421337604523 seconds\n",
            "3650\n",
            "Time elapsed: 3234.774258852005 seconds\n",
            "3700\n",
            "Time elapsed: 3276.2711367607117 seconds\n",
            "3750\n",
            "Time elapsed: 3317.7775111198425 seconds\n",
            "3800\n",
            "Time elapsed: 3360.898706674576 seconds\n",
            "3850\n",
            "Time elapsed: 3404.022988796234 seconds\n",
            "3900\n",
            "Time elapsed: 3446.6423897743225 seconds\n",
            "3950\n",
            "Time elapsed: 3489.6629865169525 seconds\n",
            "4000\n",
            "Time elapsed: 3531.6322338581085 seconds\n",
            "4050\n",
            "Time elapsed: 3576.134028673172 seconds\n",
            "4100\n",
            "Time elapsed: 3621.1532628536224 seconds\n",
            "4150\n",
            "Time elapsed: 3663.5597608089447 seconds\n",
            "4200\n",
            "Time elapsed: 3707.2031483650208 seconds\n",
            "4250\n",
            "Time elapsed: 3749.259452819824 seconds\n",
            "4300\n",
            "Time elapsed: 3791.4880888462067 seconds\n",
            "4350\n",
            "Time elapsed: 3833.029715538025 seconds\n",
            "4400\n",
            "Time elapsed: 3875.140068292618 seconds\n",
            "4450\n",
            "Time elapsed: 3917.112672805786 seconds\n",
            "4500\n",
            "Time elapsed: 3960.040487766266 seconds\n",
            "4550\n",
            "Time elapsed: 4003.294901609421 seconds\n",
            "4600\n",
            "Time elapsed: 4044.694831609726 seconds\n",
            "4650\n",
            "Time elapsed: 4086.3275306224823 seconds\n",
            "4700\n",
            "Time elapsed: 4128.361541509628 seconds\n",
            "4750\n",
            "Time elapsed: 4171.7100241184235 seconds\n",
            "4800\n",
            "Time elapsed: 4213.23495554924 seconds\n",
            "4850\n",
            "Time elapsed: 4254.643402338028 seconds\n",
            "4900\n",
            "Time elapsed: 4297.164133071899 seconds\n",
            "4950\n",
            "Time elapsed: 4341.749933242798 seconds\n",
            "5000\n",
            "Time elapsed: 4382.87171959877 seconds\n",
            "5050\n",
            "Time elapsed: 4424.660214185715 seconds\n",
            "5100\n",
            "Time elapsed: 4468.4735996723175 seconds\n",
            "5150\n",
            "Time elapsed: 4510.374681711197 seconds\n",
            "5200\n",
            "Time elapsed: 4552.5585997104645 seconds\n",
            "5250\n",
            "Time elapsed: 4594.773367643356 seconds\n",
            "5300\n",
            "Time elapsed: 4635.930134296417 seconds\n",
            "5350\n",
            "Time elapsed: 4679.788465261459 seconds\n",
            "5400\n",
            "Time elapsed: 4723.03834605217 seconds\n",
            "5450\n",
            "Time elapsed: 4765.018898010254 seconds\n",
            "5500\n",
            "Time elapsed: 4806.408705234528 seconds\n",
            "5550\n",
            "Time elapsed: 4848.554184675217 seconds\n",
            "5600\n",
            "Time elapsed: 4890.968253612518 seconds\n",
            "5650\n",
            "Time elapsed: 4933.032644987106 seconds\n",
            "5700\n",
            "Time elapsed: 4975.399207830429 seconds\n",
            "5750\n",
            "Time elapsed: 5017.31299996376 seconds\n",
            "5800\n",
            "Time elapsed: 5058.971783161163 seconds\n",
            "5850\n",
            "Time elapsed: 5102.190548181534 seconds\n",
            "5900\n",
            "Time elapsed: 5145.1737604141235 seconds\n",
            "5950\n",
            "Time elapsed: 5186.774899959564 seconds\n",
            "6000\n",
            "Time elapsed: 5229.834805727005 seconds\n",
            "6050\n",
            "Time elapsed: 5275.573482513428 seconds\n",
            "6100\n",
            "Time elapsed: 5318.761409044266 seconds\n",
            "6150\n",
            "Time elapsed: 5360.327927112579 seconds\n",
            "6200\n",
            "Time elapsed: 5402.330706119537 seconds\n",
            "6250\n",
            "Time elapsed: 5445.047022342682 seconds\n",
            "6300\n",
            "Time elapsed: 5486.707306623459 seconds\n",
            "6350\n",
            "Time elapsed: 5527.911083936691 seconds\n",
            "6400\n",
            "Time elapsed: 5569.943850517273 seconds\n",
            "6450\n",
            "Time elapsed: 5612.769494533539 seconds\n",
            "6500\n",
            "Time elapsed: 5654.127796649933 seconds\n",
            "6550\n",
            "Time elapsed: 5694.251887798309 seconds\n",
            "6600\n",
            "Time elapsed: 5735.814981460571 seconds\n",
            "6650\n",
            "Time elapsed: 5777.771550178528 seconds\n",
            "6700\n",
            "Time elapsed: 5819.405265569687 seconds\n",
            "6750\n",
            "Time elapsed: 5860.974983453751 seconds\n",
            "6800\n",
            "Time elapsed: 5902.99927687645 seconds\n",
            "6850\n",
            "Time elapsed: 5944.591550588608 seconds\n",
            "6900\n",
            "Time elapsed: 5986.477775335312 seconds\n",
            "6950\n",
            "Time elapsed: 6027.2054352760315 seconds\n",
            "7000\n",
            "Time elapsed: 6068.702142238617 seconds\n",
            "7050\n",
            "Time elapsed: 6110.776757717133 seconds\n",
            "7100\n",
            "Time elapsed: 6152.598516941071 seconds\n",
            "7150\n",
            "Time elapsed: 6194.37517619133 seconds\n",
            "7200\n",
            "Time elapsed: 6235.858425617218 seconds\n",
            "7250\n",
            "Time elapsed: 6278.815888643265 seconds\n",
            "7300\n",
            "Time elapsed: 6321.051739215851 seconds\n",
            "7350\n",
            "Time elapsed: 6361.922287464142 seconds\n",
            "7400\n",
            "Time elapsed: 6403.796266317368 seconds\n",
            "7450\n",
            "Time elapsed: 6445.723437070847 seconds\n",
            "7500\n",
            "Time elapsed: 6487.606588840485 seconds\n",
            "7550\n",
            "Time elapsed: 6529.557969093323 seconds\n",
            "7600\n",
            "Time elapsed: 6571.8234214782715 seconds\n",
            "7650\n",
            "Time elapsed: 6613.219865322113 seconds\n",
            "7700\n",
            "Time elapsed: 6654.877944231033 seconds\n",
            "7750\n",
            "Time elapsed: 6696.446574926376 seconds\n",
            "7800\n",
            "Time elapsed: 6737.113728523254 seconds\n",
            "7850\n",
            "Time elapsed: 6778.954619169235 seconds\n",
            "7900\n",
            "Time elapsed: 6821.043839216232 seconds\n",
            "7950\n",
            "Time elapsed: 6862.833844661713 seconds\n",
            "8000\n",
            "Time elapsed: 6904.840753555298 seconds\n",
            "8050\n",
            "Time elapsed: 6946.776051998138 seconds\n",
            "8100\n",
            "Time elapsed: 6988.438834667206 seconds\n",
            "8150\n",
            "Time elapsed: 7030.0865614414215 seconds\n",
            "8200\n",
            "Time elapsed: 7072.37594461441 seconds\n",
            "8250\n",
            "Time elapsed: 7114.038553476334 seconds\n",
            "8300\n",
            "Time elapsed: 7156.064567804337 seconds\n",
            "8350\n",
            "Time elapsed: 7201.791345357895 seconds\n",
            "8400\n",
            "Time elapsed: 7244.544286489487 seconds\n",
            "8450\n",
            "Time elapsed: 7286.595546722412 seconds\n",
            "8500\n",
            "Time elapsed: 7327.307378530502 seconds\n",
            "8550\n",
            "Time elapsed: 7370.2273025512695 seconds\n",
            "8600\n",
            "Time elapsed: 7411.903501987457 seconds\n",
            "8650\n",
            "Time elapsed: 7453.639302253723 seconds\n",
            "8700\n",
            "Time elapsed: 7496.304416656494 seconds\n",
            "8750\n",
            "Time elapsed: 7537.676732540131 seconds\n",
            "8800\n",
            "Time elapsed: 7578.429638624191 seconds\n",
            "8850\n",
            "Time elapsed: 7619.859321594238 seconds\n",
            "8900\n",
            "Time elapsed: 7661.2668335437775 seconds\n",
            "8950\n",
            "Time elapsed: 7702.740265846252 seconds\n",
            "9000\n",
            "Time elapsed: 7743.990281581879 seconds\n",
            "9050\n",
            "Time elapsed: 7786.344655990601 seconds\n",
            "9100\n",
            "Time elapsed: 7828.057758569717 seconds\n",
            "9150\n",
            "Time elapsed: 7869.885526180267 seconds\n",
            "9200\n",
            "Time elapsed: 7911.417282819748 seconds\n",
            "9250\n",
            "Time elapsed: 7952.650459051132 seconds\n",
            "9300\n",
            "Time elapsed: 7994.835765838623 seconds\n",
            "9350\n",
            "Time elapsed: 8035.489754199982 seconds\n"
          ]
        }
      ]
    },
    {
      "cell_type": "code",
      "source": [
        "# pre_images = {} # only if disconnects\n",
        "# for path in set(subset_filtered_real['Image Path 1']).union(set(subset_filtered_real['Image Path 2'])):\n",
        "#   df = pd.read_csv(path.split('.png')[0]+'.csv', index_col=0)\n",
        "#   # pre_images[path] = pd.read_csv(path.split('.png')[0]+'.csv', index_col=0)"
      ],
      "metadata": {
        "id": "RTRfohhDlxtn"
      },
      "execution_count": null,
      "outputs": []
    },
    {
      "cell_type": "code",
      "source": [
        "subset_filtered_real['Image 1 Array'] = subset_filtered_real['Image Path 1'].map(pre_images)\n",
        "subset_filtered_real['Image 2 Array'] = subset_filtered_real['Image Path 2'].map(pre_images)"
      ],
      "metadata": {
        "id": "eIgyFzarg5-J"
      },
      "execution_count": null,
      "outputs": []
    },
    {
      "cell_type": "code",
      "source": [
        "file_path = '/content/gdrive/MyDrive/P3/subset_processed_forREALTHISTIME.csv'\n",
        "subset_processed = pd.read_csv(file_path) #loading stuff, no longer relevant I think"
      ],
      "metadata": {
        "id": "TKXPHwQqMLsF"
      },
      "execution_count": null,
      "outputs": []
    },
    {
      "cell_type": "code",
      "source": [
        "filepath ='/content/gdrive/MyDrive/P3/subset_processed.csv'\n",
        "subset_processed = pd.read_csv(filepath)\n",
        "subset_processed.head()"
      ],
      "metadata": {
        "colab": {
          "base_uri": "https://localhost:8080/",
          "height": 206
        },
        "id": "7FVICpvZmpbG",
        "outputId": "b2e26e11-1362-4db0-e68f-dc2bc5f28c4a"
      },
      "execution_count": null,
      "outputs": [
        {
          "output_type": "execute_result",
          "data": {
            "text/plain": [
              "    Line ID 1  Writer ID 1                                       Image Path 1  \\\n",
              "0  g03-043-07          314  /content/gdrive/MyDrive/P3/lines/g03/g03-043/g...   \n",
              "1  h07-080-05          391  /content/gdrive/MyDrive/P3/lines/h07/h07-080/h...   \n",
              "2  m04-131-03          547  /content/gdrive/MyDrive/P3/lines/m04/m04-131/m...   \n",
              "3  r03-110-07          668  /content/gdrive/MyDrive/P3/lines/r03/r03-110/r...   \n",
              "4  e04-119-02          243  /content/gdrive/MyDrive/P3/lines/e04/e04-119/e...   \n",
              "\n",
              "     Line ID 2  Writer ID 2                                       Image Path 2  \n",
              "0   m02-095-09          532  /content/gdrive/MyDrive/P3/lines/m02/m02-095/m...  \n",
              "1   m04-209-05          549  /content/gdrive/MyDrive/P3/lines/m04/m04-209/m...  \n",
              "2   n04-039-05          582  /content/gdrive/MyDrive/P3/lines/n04/n04-039/n...  \n",
              "3   b04-004-05          107  /content/gdrive/MyDrive/P3/lines/b04/b04-004/b...  \n",
              "4  g06-037l-08          343  /content/gdrive/MyDrive/P3/lines/g06/g06-037l/...  "
            ],
            "text/html": [
              "\n",
              "  <div id=\"df-16531529-5249-4997-868a-37d2b8065bd1\" class=\"colab-df-container\">\n",
              "    <div>\n",
              "<style scoped>\n",
              "    .dataframe tbody tr th:only-of-type {\n",
              "        vertical-align: middle;\n",
              "    }\n",
              "\n",
              "    .dataframe tbody tr th {\n",
              "        vertical-align: top;\n",
              "    }\n",
              "\n",
              "    .dataframe thead th {\n",
              "        text-align: right;\n",
              "    }\n",
              "</style>\n",
              "<table border=\"1\" class=\"dataframe\">\n",
              "  <thead>\n",
              "    <tr style=\"text-align: right;\">\n",
              "      <th></th>\n",
              "      <th>Line ID 1</th>\n",
              "      <th>Writer ID 1</th>\n",
              "      <th>Image Path 1</th>\n",
              "      <th>Line ID 2</th>\n",
              "      <th>Writer ID 2</th>\n",
              "      <th>Image Path 2</th>\n",
              "    </tr>\n",
              "  </thead>\n",
              "  <tbody>\n",
              "    <tr>\n",
              "      <th>0</th>\n",
              "      <td>g03-043-07</td>\n",
              "      <td>314</td>\n",
              "      <td>/content/gdrive/MyDrive/P3/lines/g03/g03-043/g...</td>\n",
              "      <td>m02-095-09</td>\n",
              "      <td>532</td>\n",
              "      <td>/content/gdrive/MyDrive/P3/lines/m02/m02-095/m...</td>\n",
              "    </tr>\n",
              "    <tr>\n",
              "      <th>1</th>\n",
              "      <td>h07-080-05</td>\n",
              "      <td>391</td>\n",
              "      <td>/content/gdrive/MyDrive/P3/lines/h07/h07-080/h...</td>\n",
              "      <td>m04-209-05</td>\n",
              "      <td>549</td>\n",
              "      <td>/content/gdrive/MyDrive/P3/lines/m04/m04-209/m...</td>\n",
              "    </tr>\n",
              "    <tr>\n",
              "      <th>2</th>\n",
              "      <td>m04-131-03</td>\n",
              "      <td>547</td>\n",
              "      <td>/content/gdrive/MyDrive/P3/lines/m04/m04-131/m...</td>\n",
              "      <td>n04-039-05</td>\n",
              "      <td>582</td>\n",
              "      <td>/content/gdrive/MyDrive/P3/lines/n04/n04-039/n...</td>\n",
              "    </tr>\n",
              "    <tr>\n",
              "      <th>3</th>\n",
              "      <td>r03-110-07</td>\n",
              "      <td>668</td>\n",
              "      <td>/content/gdrive/MyDrive/P3/lines/r03/r03-110/r...</td>\n",
              "      <td>b04-004-05</td>\n",
              "      <td>107</td>\n",
              "      <td>/content/gdrive/MyDrive/P3/lines/b04/b04-004/b...</td>\n",
              "    </tr>\n",
              "    <tr>\n",
              "      <th>4</th>\n",
              "      <td>e04-119-02</td>\n",
              "      <td>243</td>\n",
              "      <td>/content/gdrive/MyDrive/P3/lines/e04/e04-119/e...</td>\n",
              "      <td>g06-037l-08</td>\n",
              "      <td>343</td>\n",
              "      <td>/content/gdrive/MyDrive/P3/lines/g06/g06-037l/...</td>\n",
              "    </tr>\n",
              "  </tbody>\n",
              "</table>\n",
              "</div>\n",
              "    <div class=\"colab-df-buttons\">\n",
              "\n",
              "  <div class=\"colab-df-container\">\n",
              "    <button class=\"colab-df-convert\" onclick=\"convertToInteractive('df-16531529-5249-4997-868a-37d2b8065bd1')\"\n",
              "            title=\"Convert this dataframe to an interactive table.\"\n",
              "            style=\"display:none;\">\n",
              "\n",
              "  <svg xmlns=\"http://www.w3.org/2000/svg\" height=\"24px\" viewBox=\"0 -960 960 960\">\n",
              "    <path d=\"M120-120v-720h720v720H120Zm60-500h600v-160H180v160Zm220 220h160v-160H400v160Zm0 220h160v-160H400v160ZM180-400h160v-160H180v160Zm440 0h160v-160H620v160ZM180-180h160v-160H180v160Zm440 0h160v-160H620v160Z\"/>\n",
              "  </svg>\n",
              "    </button>\n",
              "\n",
              "  <style>\n",
              "    .colab-df-container {\n",
              "      display:flex;\n",
              "      gap: 12px;\n",
              "    }\n",
              "\n",
              "    .colab-df-convert {\n",
              "      background-color: #E8F0FE;\n",
              "      border: none;\n",
              "      border-radius: 50%;\n",
              "      cursor: pointer;\n",
              "      display: none;\n",
              "      fill: #1967D2;\n",
              "      height: 32px;\n",
              "      padding: 0 0 0 0;\n",
              "      width: 32px;\n",
              "    }\n",
              "\n",
              "    .colab-df-convert:hover {\n",
              "      background-color: #E2EBFA;\n",
              "      box-shadow: 0px 1px 2px rgba(60, 64, 67, 0.3), 0px 1px 3px 1px rgba(60, 64, 67, 0.15);\n",
              "      fill: #174EA6;\n",
              "    }\n",
              "\n",
              "    .colab-df-buttons div {\n",
              "      margin-bottom: 4px;\n",
              "    }\n",
              "\n",
              "    [theme=dark] .colab-df-convert {\n",
              "      background-color: #3B4455;\n",
              "      fill: #D2E3FC;\n",
              "    }\n",
              "\n",
              "    [theme=dark] .colab-df-convert:hover {\n",
              "      background-color: #434B5C;\n",
              "      box-shadow: 0px 1px 3px 1px rgba(0, 0, 0, 0.15);\n",
              "      filter: drop-shadow(0px 1px 2px rgba(0, 0, 0, 0.3));\n",
              "      fill: #FFFFFF;\n",
              "    }\n",
              "  </style>\n",
              "\n",
              "    <script>\n",
              "      const buttonEl =\n",
              "        document.querySelector('#df-16531529-5249-4997-868a-37d2b8065bd1 button.colab-df-convert');\n",
              "      buttonEl.style.display =\n",
              "        google.colab.kernel.accessAllowed ? 'block' : 'none';\n",
              "\n",
              "      async function convertToInteractive(key) {\n",
              "        const element = document.querySelector('#df-16531529-5249-4997-868a-37d2b8065bd1');\n",
              "        const dataTable =\n",
              "          await google.colab.kernel.invokeFunction('convertToInteractive',\n",
              "                                                    [key], {});\n",
              "        if (!dataTable) return;\n",
              "\n",
              "        const docLinkHtml = 'Like what you see? Visit the ' +\n",
              "          '<a target=\"_blank\" href=https://colab.research.google.com/notebooks/data_table.ipynb>data table notebook</a>'\n",
              "          + ' to learn more about interactive tables.';\n",
              "        element.innerHTML = '';\n",
              "        dataTable['output_type'] = 'display_data';\n",
              "        await google.colab.output.renderOutput(dataTable, element);\n",
              "        const docLink = document.createElement('div');\n",
              "        docLink.innerHTML = docLinkHtml;\n",
              "        element.appendChild(docLink);\n",
              "      }\n",
              "    </script>\n",
              "  </div>\n",
              "\n",
              "\n",
              "<div id=\"df-c60a9b7e-fa45-4006-8b53-f24505b9192f\">\n",
              "  <button class=\"colab-df-quickchart\" onclick=\"quickchart('df-c60a9b7e-fa45-4006-8b53-f24505b9192f')\"\n",
              "            title=\"Suggest charts\"\n",
              "            style=\"display:none;\">\n",
              "\n",
              "<svg xmlns=\"http://www.w3.org/2000/svg\" height=\"24px\"viewBox=\"0 0 24 24\"\n",
              "     width=\"24px\">\n",
              "    <g>\n",
              "        <path d=\"M19 3H5c-1.1 0-2 .9-2 2v14c0 1.1.9 2 2 2h14c1.1 0 2-.9 2-2V5c0-1.1-.9-2-2-2zM9 17H7v-7h2v7zm4 0h-2V7h2v10zm4 0h-2v-4h2v4z\"/>\n",
              "    </g>\n",
              "</svg>\n",
              "  </button>\n",
              "\n",
              "<style>\n",
              "  .colab-df-quickchart {\n",
              "      --bg-color: #E8F0FE;\n",
              "      --fill-color: #1967D2;\n",
              "      --hover-bg-color: #E2EBFA;\n",
              "      --hover-fill-color: #174EA6;\n",
              "      --disabled-fill-color: #AAA;\n",
              "      --disabled-bg-color: #DDD;\n",
              "  }\n",
              "\n",
              "  [theme=dark] .colab-df-quickchart {\n",
              "      --bg-color: #3B4455;\n",
              "      --fill-color: #D2E3FC;\n",
              "      --hover-bg-color: #434B5C;\n",
              "      --hover-fill-color: #FFFFFF;\n",
              "      --disabled-bg-color: #3B4455;\n",
              "      --disabled-fill-color: #666;\n",
              "  }\n",
              "\n",
              "  .colab-df-quickchart {\n",
              "    background-color: var(--bg-color);\n",
              "    border: none;\n",
              "    border-radius: 50%;\n",
              "    cursor: pointer;\n",
              "    display: none;\n",
              "    fill: var(--fill-color);\n",
              "    height: 32px;\n",
              "    padding: 0;\n",
              "    width: 32px;\n",
              "  }\n",
              "\n",
              "  .colab-df-quickchart:hover {\n",
              "    background-color: var(--hover-bg-color);\n",
              "    box-shadow: 0 1px 2px rgba(60, 64, 67, 0.3), 0 1px 3px 1px rgba(60, 64, 67, 0.15);\n",
              "    fill: var(--button-hover-fill-color);\n",
              "  }\n",
              "\n",
              "  .colab-df-quickchart-complete:disabled,\n",
              "  .colab-df-quickchart-complete:disabled:hover {\n",
              "    background-color: var(--disabled-bg-color);\n",
              "    fill: var(--disabled-fill-color);\n",
              "    box-shadow: none;\n",
              "  }\n",
              "\n",
              "  .colab-df-spinner {\n",
              "    border: 2px solid var(--fill-color);\n",
              "    border-color: transparent;\n",
              "    border-bottom-color: var(--fill-color);\n",
              "    animation:\n",
              "      spin 1s steps(1) infinite;\n",
              "  }\n",
              "\n",
              "  @keyframes spin {\n",
              "    0% {\n",
              "      border-color: transparent;\n",
              "      border-bottom-color: var(--fill-color);\n",
              "      border-left-color: var(--fill-color);\n",
              "    }\n",
              "    20% {\n",
              "      border-color: transparent;\n",
              "      border-left-color: var(--fill-color);\n",
              "      border-top-color: var(--fill-color);\n",
              "    }\n",
              "    30% {\n",
              "      border-color: transparent;\n",
              "      border-left-color: var(--fill-color);\n",
              "      border-top-color: var(--fill-color);\n",
              "      border-right-color: var(--fill-color);\n",
              "    }\n",
              "    40% {\n",
              "      border-color: transparent;\n",
              "      border-right-color: var(--fill-color);\n",
              "      border-top-color: var(--fill-color);\n",
              "    }\n",
              "    60% {\n",
              "      border-color: transparent;\n",
              "      border-right-color: var(--fill-color);\n",
              "    }\n",
              "    80% {\n",
              "      border-color: transparent;\n",
              "      border-right-color: var(--fill-color);\n",
              "      border-bottom-color: var(--fill-color);\n",
              "    }\n",
              "    90% {\n",
              "      border-color: transparent;\n",
              "      border-bottom-color: var(--fill-color);\n",
              "    }\n",
              "  }\n",
              "</style>\n",
              "\n",
              "  <script>\n",
              "    async function quickchart(key) {\n",
              "      const quickchartButtonEl =\n",
              "        document.querySelector('#' + key + ' button');\n",
              "      quickchartButtonEl.disabled = true;  // To prevent multiple clicks.\n",
              "      quickchartButtonEl.classList.add('colab-df-spinner');\n",
              "      try {\n",
              "        const charts = await google.colab.kernel.invokeFunction(\n",
              "            'suggestCharts', [key], {});\n",
              "      } catch (error) {\n",
              "        console.error('Error during call to suggestCharts:', error);\n",
              "      }\n",
              "      quickchartButtonEl.classList.remove('colab-df-spinner');\n",
              "      quickchartButtonEl.classList.add('colab-df-quickchart-complete');\n",
              "    }\n",
              "    (() => {\n",
              "      let quickchartButtonEl =\n",
              "        document.querySelector('#df-c60a9b7e-fa45-4006-8b53-f24505b9192f button');\n",
              "      quickchartButtonEl.style.display =\n",
              "        google.colab.kernel.accessAllowed ? 'block' : 'none';\n",
              "    })();\n",
              "  </script>\n",
              "</div>\n",
              "\n",
              "    </div>\n",
              "  </div>\n"
            ],
            "application/vnd.google.colaboratory.intrinsic+json": {
              "type": "dataframe",
              "variable_name": "subset_processed",
              "summary": "{\n  \"name\": \"subset_processed\",\n  \"rows\": 8135,\n  \"fields\": [\n    {\n      \"column\": \"Line ID 1\",\n      \"properties\": {\n        \"dtype\": \"string\",\n        \"num_unique_values\": 5621,\n        \"samples\": [\n          \"g07-071a-03\",\n          \"k04-028-04\",\n          \"g01-083-04\"\n        ],\n        \"semantic_type\": \"\",\n        \"description\": \"\"\n      }\n    },\n    {\n      \"column\": \"Writer ID 1\",\n      \"properties\": {\n        \"dtype\": \"number\",\n        \"std\": 158,\n        \"min\": 0,\n        \"max\": 671,\n        \"num_unique_values\": 633,\n        \"samples\": [\n          514,\n          74,\n          84\n        ],\n        \"semantic_type\": \"\",\n        \"description\": \"\"\n      }\n    },\n    {\n      \"column\": \"Image Path 1\",\n      \"properties\": {\n        \"dtype\": \"string\",\n        \"num_unique_values\": 5621,\n        \"samples\": [\n          \"/content/gdrive/MyDrive/P3/lines/g07/g07-071a/g07-071a-03.png\",\n          \"/content/gdrive/MyDrive/P3/lines/k04/k04-028/k04-028-04.png\",\n          \"/content/gdrive/MyDrive/P3/lines/g01/g01-083/g01-083-04.png\"\n        ],\n        \"semantic_type\": \"\",\n        \"description\": \"\"\n      }\n    },\n    {\n      \"column\": \"Line ID 2\",\n      \"properties\": {\n        \"dtype\": \"string\",\n        \"num_unique_values\": 5633,\n        \"samples\": [\n          \"k04-093-08\",\n          \"b04-010-00\",\n          \"r06-053-04\"\n        ],\n        \"semantic_type\": \"\",\n        \"description\": \"\"\n      }\n    },\n    {\n      \"column\": \"Writer ID 2\",\n      \"properties\": {\n        \"dtype\": \"number\",\n        \"std\": 209,\n        \"min\": 0,\n        \"max\": 671,\n        \"num_unique_values\": 617,\n        \"samples\": [\n          198,\n          295,\n          22\n        ],\n        \"semantic_type\": \"\",\n        \"description\": \"\"\n      }\n    },\n    {\n      \"column\": \"Image Path 2\",\n      \"properties\": {\n        \"dtype\": \"string\",\n        \"num_unique_values\": 5633,\n        \"samples\": [\n          \"/content/gdrive/MyDrive/P3/lines/k04/k04-093/k04-093-08.png\",\n          \"/content/gdrive/MyDrive/P3/lines/b04/b04-010/b04-010-00.png\",\n          \"/content/gdrive/MyDrive/P3/lines/r06/r06-053/r06-053-04.png\"\n        ],\n        \"semantic_type\": \"\",\n        \"description\": \"\"\n      }\n    }\n  ]\n}"
            }
          },
          "metadata": {},
          "execution_count": 76
        }
      ]
    },
    {
      "cell_type": "markdown",
      "source": [
        "## Building and Training a CNN\n",
        "\n",
        "Scary!!\n",
        "\n",
        "Imports: import tensorflow as tf; from tensorflow.keras import layers, models (inserted above but it's for this section)\n",
        "\n",
        "This section is informed by TensorFlow documentation 🙏\n",
        "forever grateful for this documentation ➡ https://www.tensorflow.org/tutorials/images/cnn (cited in paper)"
      ],
      "metadata": {
        "id": "JI-0tUEHCvxu"
      }
    },
    {
      "cell_type": "code",
      "source": [
        "def model(\n",
        "    input_shape=(128, 128, 1)): # = input_shape=(32, 32, 3) in documentation but mine is different\n",
        "\n",
        "    model = models.Sequential([\n",
        "        layers.Conv2D(32, (3, 3), activation='relu', input_shape=input_shape),\n",
        "        layers.MaxPooling2D((2, 2)),\n",
        "        layers.Conv2D(64, (3, 3), activation='relu'),\n",
        "        layers.MaxPooling2D((2, 2)),\n",
        "        layers.Flatten(),\n",
        "        layers.Dense(128, activation='relu'),\n",
        "        layers.Dense(1, activation='sigmoid')  # Binary output\n",
        "    ])\n",
        "    model.compile(optimizer='adam', loss='binary_crossentropy', metrics=['accuracy'])\n",
        "    return model\n",
        "\n",
        "model = model()\n",
        "model.summary()"
      ],
      "metadata": {
        "colab": {
          "base_uri": "https://localhost:8080/",
          "height": 419
        },
        "id": "jv8Bp6OeCyOU",
        "outputId": "405becb8-9add-45e3-c709-6538c8dd69fc"
      },
      "execution_count": null,
      "outputs": [
        {
          "output_type": "stream",
          "name": "stderr",
          "text": [
            "/usr/local/lib/python3.10/dist-packages/keras/src/layers/convolutional/base_conv.py:107: UserWarning: Do not pass an `input_shape`/`input_dim` argument to a layer. When using Sequential models, prefer using an `Input(shape)` object as the first layer in the model instead.\n",
            "  super().__init__(activity_regularizer=activity_regularizer, **kwargs)\n"
          ]
        },
        {
          "output_type": "display_data",
          "data": {
            "text/plain": [
              "\u001b[1mModel: \"sequential_1\"\u001b[0m\n"
            ],
            "text/html": [
              "<pre style=\"white-space:pre;overflow-x:auto;line-height:normal;font-family:Menlo,'DejaVu Sans Mono',consolas,'Courier New',monospace\"><span style=\"font-weight: bold\">Model: \"sequential_1\"</span>\n",
              "</pre>\n"
            ]
          },
          "metadata": {}
        },
        {
          "output_type": "display_data",
          "data": {
            "text/plain": [
              "┏━━━━━━━━━━━━━━━━━━━━━━━━━━━━━━━━━━━━━━┳━━━━━━━━━━━━━━━━━━━━━━━━━━━━━┳━━━━━━━━━━━━━━━━━┓\n",
              "┃\u001b[1m \u001b[0m\u001b[1mLayer (type)                        \u001b[0m\u001b[1m \u001b[0m┃\u001b[1m \u001b[0m\u001b[1mOutput Shape               \u001b[0m\u001b[1m \u001b[0m┃\u001b[1m \u001b[0m\u001b[1m        Param #\u001b[0m\u001b[1m \u001b[0m┃\n",
              "┡━━━━━━━━━━━━━━━━━━━━━━━━━━━━━━━━━━━━━━╇━━━━━━━━━━━━━━━━━━━━━━━━━━━━━╇━━━━━━━━━━━━━━━━━┩\n",
              "│ conv2d_2 (\u001b[38;5;33mConv2D\u001b[0m)                    │ (\u001b[38;5;45mNone\u001b[0m, \u001b[38;5;34m126\u001b[0m, \u001b[38;5;34m126\u001b[0m, \u001b[38;5;34m32\u001b[0m)        │             \u001b[38;5;34m320\u001b[0m │\n",
              "├──────────────────────────────────────┼─────────────────────────────┼─────────────────┤\n",
              "│ max_pooling2d_2 (\u001b[38;5;33mMaxPooling2D\u001b[0m)       │ (\u001b[38;5;45mNone\u001b[0m, \u001b[38;5;34m63\u001b[0m, \u001b[38;5;34m63\u001b[0m, \u001b[38;5;34m32\u001b[0m)          │               \u001b[38;5;34m0\u001b[0m │\n",
              "├──────────────────────────────────────┼─────────────────────────────┼─────────────────┤\n",
              "│ conv2d_3 (\u001b[38;5;33mConv2D\u001b[0m)                    │ (\u001b[38;5;45mNone\u001b[0m, \u001b[38;5;34m61\u001b[0m, \u001b[38;5;34m61\u001b[0m, \u001b[38;5;34m64\u001b[0m)          │          \u001b[38;5;34m18,496\u001b[0m │\n",
              "├──────────────────────────────────────┼─────────────────────────────┼─────────────────┤\n",
              "│ max_pooling2d_3 (\u001b[38;5;33mMaxPooling2D\u001b[0m)       │ (\u001b[38;5;45mNone\u001b[0m, \u001b[38;5;34m30\u001b[0m, \u001b[38;5;34m30\u001b[0m, \u001b[38;5;34m64\u001b[0m)          │               \u001b[38;5;34m0\u001b[0m │\n",
              "├──────────────────────────────────────┼─────────────────────────────┼─────────────────┤\n",
              "│ flatten_1 (\u001b[38;5;33mFlatten\u001b[0m)                  │ (\u001b[38;5;45mNone\u001b[0m, \u001b[38;5;34m57600\u001b[0m)               │               \u001b[38;5;34m0\u001b[0m │\n",
              "├──────────────────────────────────────┼─────────────────────────────┼─────────────────┤\n",
              "│ dense_2 (\u001b[38;5;33mDense\u001b[0m)                      │ (\u001b[38;5;45mNone\u001b[0m, \u001b[38;5;34m128\u001b[0m)                 │       \u001b[38;5;34m7,372,928\u001b[0m │\n",
              "├──────────────────────────────────────┼─────────────────────────────┼─────────────────┤\n",
              "│ dense_3 (\u001b[38;5;33mDense\u001b[0m)                      │ (\u001b[38;5;45mNone\u001b[0m, \u001b[38;5;34m1\u001b[0m)                   │             \u001b[38;5;34m129\u001b[0m │\n",
              "└──────────────────────────────────────┴─────────────────────────────┴─────────────────┘\n"
            ],
            "text/html": [
              "<pre style=\"white-space:pre;overflow-x:auto;line-height:normal;font-family:Menlo,'DejaVu Sans Mono',consolas,'Courier New',monospace\">┏━━━━━━━━━━━━━━━━━━━━━━━━━━━━━━━━━━━━━━┳━━━━━━━━━━━━━━━━━━━━━━━━━━━━━┳━━━━━━━━━━━━━━━━━┓\n",
              "┃<span style=\"font-weight: bold\"> Layer (type)                         </span>┃<span style=\"font-weight: bold\"> Output Shape                </span>┃<span style=\"font-weight: bold\">         Param # </span>┃\n",
              "┡━━━━━━━━━━━━━━━━━━━━━━━━━━━━━━━━━━━━━━╇━━━━━━━━━━━━━━━━━━━━━━━━━━━━━╇━━━━━━━━━━━━━━━━━┩\n",
              "│ conv2d_2 (<span style=\"color: #0087ff; text-decoration-color: #0087ff\">Conv2D</span>)                    │ (<span style=\"color: #00d7ff; text-decoration-color: #00d7ff\">None</span>, <span style=\"color: #00af00; text-decoration-color: #00af00\">126</span>, <span style=\"color: #00af00; text-decoration-color: #00af00\">126</span>, <span style=\"color: #00af00; text-decoration-color: #00af00\">32</span>)        │             <span style=\"color: #00af00; text-decoration-color: #00af00\">320</span> │\n",
              "├──────────────────────────────────────┼─────────────────────────────┼─────────────────┤\n",
              "│ max_pooling2d_2 (<span style=\"color: #0087ff; text-decoration-color: #0087ff\">MaxPooling2D</span>)       │ (<span style=\"color: #00d7ff; text-decoration-color: #00d7ff\">None</span>, <span style=\"color: #00af00; text-decoration-color: #00af00\">63</span>, <span style=\"color: #00af00; text-decoration-color: #00af00\">63</span>, <span style=\"color: #00af00; text-decoration-color: #00af00\">32</span>)          │               <span style=\"color: #00af00; text-decoration-color: #00af00\">0</span> │\n",
              "├──────────────────────────────────────┼─────────────────────────────┼─────────────────┤\n",
              "│ conv2d_3 (<span style=\"color: #0087ff; text-decoration-color: #0087ff\">Conv2D</span>)                    │ (<span style=\"color: #00d7ff; text-decoration-color: #00d7ff\">None</span>, <span style=\"color: #00af00; text-decoration-color: #00af00\">61</span>, <span style=\"color: #00af00; text-decoration-color: #00af00\">61</span>, <span style=\"color: #00af00; text-decoration-color: #00af00\">64</span>)          │          <span style=\"color: #00af00; text-decoration-color: #00af00\">18,496</span> │\n",
              "├──────────────────────────────────────┼─────────────────────────────┼─────────────────┤\n",
              "│ max_pooling2d_3 (<span style=\"color: #0087ff; text-decoration-color: #0087ff\">MaxPooling2D</span>)       │ (<span style=\"color: #00d7ff; text-decoration-color: #00d7ff\">None</span>, <span style=\"color: #00af00; text-decoration-color: #00af00\">30</span>, <span style=\"color: #00af00; text-decoration-color: #00af00\">30</span>, <span style=\"color: #00af00; text-decoration-color: #00af00\">64</span>)          │               <span style=\"color: #00af00; text-decoration-color: #00af00\">0</span> │\n",
              "├──────────────────────────────────────┼─────────────────────────────┼─────────────────┤\n",
              "│ flatten_1 (<span style=\"color: #0087ff; text-decoration-color: #0087ff\">Flatten</span>)                  │ (<span style=\"color: #00d7ff; text-decoration-color: #00d7ff\">None</span>, <span style=\"color: #00af00; text-decoration-color: #00af00\">57600</span>)               │               <span style=\"color: #00af00; text-decoration-color: #00af00\">0</span> │\n",
              "├──────────────────────────────────────┼─────────────────────────────┼─────────────────┤\n",
              "│ dense_2 (<span style=\"color: #0087ff; text-decoration-color: #0087ff\">Dense</span>)                      │ (<span style=\"color: #00d7ff; text-decoration-color: #00d7ff\">None</span>, <span style=\"color: #00af00; text-decoration-color: #00af00\">128</span>)                 │       <span style=\"color: #00af00; text-decoration-color: #00af00\">7,372,928</span> │\n",
              "├──────────────────────────────────────┼─────────────────────────────┼─────────────────┤\n",
              "│ dense_3 (<span style=\"color: #0087ff; text-decoration-color: #0087ff\">Dense</span>)                      │ (<span style=\"color: #00d7ff; text-decoration-color: #00d7ff\">None</span>, <span style=\"color: #00af00; text-decoration-color: #00af00\">1</span>)                   │             <span style=\"color: #00af00; text-decoration-color: #00af00\">129</span> │\n",
              "└──────────────────────────────────────┴─────────────────────────────┴─────────────────┘\n",
              "</pre>\n"
            ]
          },
          "metadata": {}
        },
        {
          "output_type": "display_data",
          "data": {
            "text/plain": [
              "\u001b[1m Total params: \u001b[0m\u001b[38;5;34m7,391,873\u001b[0m (28.20 MB)\n"
            ],
            "text/html": [
              "<pre style=\"white-space:pre;overflow-x:auto;line-height:normal;font-family:Menlo,'DejaVu Sans Mono',consolas,'Courier New',monospace\"><span style=\"font-weight: bold\"> Total params: </span><span style=\"color: #00af00; text-decoration-color: #00af00\">7,391,873</span> (28.20 MB)\n",
              "</pre>\n"
            ]
          },
          "metadata": {}
        },
        {
          "output_type": "display_data",
          "data": {
            "text/plain": [
              "\u001b[1m Trainable params: \u001b[0m\u001b[38;5;34m7,391,873\u001b[0m (28.20 MB)\n"
            ],
            "text/html": [
              "<pre style=\"white-space:pre;overflow-x:auto;line-height:normal;font-family:Menlo,'DejaVu Sans Mono',consolas,'Courier New',monospace\"><span style=\"font-weight: bold\"> Trainable params: </span><span style=\"color: #00af00; text-decoration-color: #00af00\">7,391,873</span> (28.20 MB)\n",
              "</pre>\n"
            ]
          },
          "metadata": {}
        },
        {
          "output_type": "display_data",
          "data": {
            "text/plain": [
              "\u001b[1m Non-trainable params: \u001b[0m\u001b[38;5;34m0\u001b[0m (0.00 B)\n"
            ],
            "text/html": [
              "<pre style=\"white-space:pre;overflow-x:auto;line-height:normal;font-family:Menlo,'DejaVu Sans Mono',consolas,'Courier New',monospace\"><span style=\"font-weight: bold\"> Non-trainable params: </span><span style=\"color: #00af00; text-decoration-color: #00af00\">0</span> (0.00 B)\n",
              "</pre>\n"
            ]
          },
          "metadata": {}
        }
      ]
    },
    {
      "cell_type": "code",
      "source": [
        "image_1_arrays = np.array(subset_filtered_real[\"Image 1 Array\"].tolist())\n",
        "image_2_arrays = np.array(subset_filtered_real[\"Image 2 Array\"].tolist())"
      ],
      "metadata": {
        "id": "p3_SFPVDF8ZS"
      },
      "execution_count": null,
      "outputs": []
    },
    {
      "cell_type": "code",
      "source": [
        "subset_filtered_real.columns"
      ],
      "metadata": {
        "id": "m5ShO9kouNpb",
        "outputId": "ef2d2bdd-d6f2-435f-ced7-f4dd86402c4f",
        "colab": {
          "base_uri": "https://localhost:8080/"
        }
      },
      "execution_count": null,
      "outputs": [
        {
          "output_type": "execute_result",
          "data": {
            "text/plain": [
              "Index(['Line ID 1', 'Writer ID 1', 'Image Path 1', 'Line ID 2', 'Writer ID 2',\n",
              "       'Image Path 2', 'Image 1 Array', 'Image 2 Array'],\n",
              "      dtype='object')"
            ]
          },
          "metadata": {},
          "execution_count": 140
        }
      ]
    },
    {
      "cell_type": "markdown",
      "source": [
        "### Train-test split"
      ],
      "metadata": {
        "id": "J2BELAxtHNSk"
      }
    },
    {
      "cell_type": "code",
      "source": [
        "inputs = np.stack((image_1_arrays, image_2_arrays), axis=1)  # shape (n, 2, 128, 128) --- horizontal stack\n",
        "\n",
        "X_train, X_test, y_train, y_test = train_test_split(inputs, labels, test_size=0.2)\n",
        "\n",
        "X_train_1 = X_train[:, 0]  # First img in pair (col 0)\n",
        "X_train_2 = X_train[:, 1]\n",
        "X_test_1 = X_test[:, 0]\n",
        "X_test_2 = X_test[:, 1]\n",
        "\n",
        "#tuples\n",
        "train_data = (X_train_1, X_train_2)\n",
        "test_data = (X_test_1, X_test_2)"
      ],
      "metadata": {
        "id": "pCY1fzxKHIEp"
      },
      "execution_count": null,
      "outputs": []
    },
    {
      "cell_type": "code",
      "source": [
        "pd.DataFrame(inputs.reshape(inputs.shape[0], -1)).to_csv('/content/gdrive/MyDrive/P3/inputs_for_cnn.csv', index=False)"
      ],
      "metadata": {
        "colab": {
          "base_uri": "https://localhost:8080/",
          "height": 293
        },
        "id": "A8a5ayDcIafh",
        "outputId": "cfdc85d6-4554-4f93-fe2f-2cdfd9a33e62"
      },
      "execution_count": null,
      "outputs": [
        {
          "output_type": "error",
          "ename": "KeyboardInterrupt",
          "evalue": "",
          "traceback": [
            "\u001b[0;31m---------------------------------------------------------------------------\u001b[0m",
            "\u001b[0;31mKeyboardInterrupt\u001b[0m                         Traceback (most recent call last)",
            "\u001b[0;32m<ipython-input-31-551c05dc5050>\u001b[0m in \u001b[0;36m<cell line: 1>\u001b[0;34m()\u001b[0m\n\u001b[0;32m----> 1\u001b[0;31m \u001b[0mpd\u001b[0m\u001b[0;34m.\u001b[0m\u001b[0mDataFrame\u001b[0m\u001b[0;34m(\u001b[0m\u001b[0minputs\u001b[0m\u001b[0;34m.\u001b[0m\u001b[0mreshape\u001b[0m\u001b[0;34m(\u001b[0m\u001b[0minputs\u001b[0m\u001b[0;34m.\u001b[0m\u001b[0mshape\u001b[0m\u001b[0;34m[\u001b[0m\u001b[0;36m0\u001b[0m\u001b[0;34m]\u001b[0m\u001b[0;34m,\u001b[0m \u001b[0;34m-\u001b[0m\u001b[0;36m1\u001b[0m\u001b[0;34m)\u001b[0m\u001b[0;34m)\u001b[0m\u001b[0;34m.\u001b[0m\u001b[0mto_csv\u001b[0m\u001b[0;34m(\u001b[0m\u001b[0;34m'/content/gdrive/MyDrive/P3/inputs_for_cnn.csv'\u001b[0m\u001b[0;34m,\u001b[0m \u001b[0mindex\u001b[0m\u001b[0;34m=\u001b[0m\u001b[0;32mFalse\u001b[0m\u001b[0;34m)\u001b[0m\u001b[0;34m\u001b[0m\u001b[0;34m\u001b[0m\u001b[0m\n\u001b[0m",
            "\u001b[0;32m/usr/local/lib/python3.10/dist-packages/pandas/util/_decorators.py\u001b[0m in \u001b[0;36mwrapper\u001b[0;34m(*args, **kwargs)\u001b[0m\n\u001b[1;32m    331\u001b[0m                     \u001b[0mstacklevel\u001b[0m\u001b[0;34m=\u001b[0m\u001b[0mfind_stack_level\u001b[0m\u001b[0;34m(\u001b[0m\u001b[0;34m)\u001b[0m\u001b[0;34m,\u001b[0m\u001b[0;34m\u001b[0m\u001b[0;34m\u001b[0m\u001b[0m\n\u001b[1;32m    332\u001b[0m                 )\n\u001b[0;32m--> 333\u001b[0;31m             \u001b[0;32mreturn\u001b[0m \u001b[0mfunc\u001b[0m\u001b[0;34m(\u001b[0m\u001b[0;34m*\u001b[0m\u001b[0margs\u001b[0m\u001b[0;34m,\u001b[0m \u001b[0;34m**\u001b[0m\u001b[0mkwargs\u001b[0m\u001b[0;34m)\u001b[0m\u001b[0;34m\u001b[0m\u001b[0;34m\u001b[0m\u001b[0m\n\u001b[0m\u001b[1;32m    334\u001b[0m \u001b[0;34m\u001b[0m\u001b[0m\n\u001b[1;32m    335\u001b[0m         \u001b[0;31m# error: \"Callable[[VarArg(Any), KwArg(Any)], Any]\" has no\u001b[0m\u001b[0;34m\u001b[0m\u001b[0;34m\u001b[0m\u001b[0m\n",
            "\u001b[0;32m/usr/local/lib/python3.10/dist-packages/pandas/core/generic.py\u001b[0m in \u001b[0;36mto_csv\u001b[0;34m(self, path_or_buf, sep, na_rep, float_format, columns, header, index, index_label, mode, encoding, compression, quoting, quotechar, lineterminator, chunksize, date_format, doublequote, escapechar, decimal, errors, storage_options)\u001b[0m\n\u001b[1;32m   3965\u001b[0m         )\n\u001b[1;32m   3966\u001b[0m \u001b[0;34m\u001b[0m\u001b[0m\n\u001b[0;32m-> 3967\u001b[0;31m         return DataFrameRenderer(formatter).to_csv(\n\u001b[0m\u001b[1;32m   3968\u001b[0m             \u001b[0mpath_or_buf\u001b[0m\u001b[0;34m,\u001b[0m\u001b[0;34m\u001b[0m\u001b[0;34m\u001b[0m\u001b[0m\n\u001b[1;32m   3969\u001b[0m             \u001b[0mlineterminator\u001b[0m\u001b[0;34m=\u001b[0m\u001b[0mlineterminator\u001b[0m\u001b[0;34m,\u001b[0m\u001b[0;34m\u001b[0m\u001b[0;34m\u001b[0m\u001b[0m\n",
            "\u001b[0;32m/usr/local/lib/python3.10/dist-packages/pandas/io/formats/format.py\u001b[0m in \u001b[0;36mto_csv\u001b[0;34m(self, path_or_buf, encoding, sep, columns, index_label, mode, compression, quoting, quotechar, lineterminator, chunksize, date_format, doublequote, escapechar, errors, storage_options)\u001b[0m\n\u001b[1;32m   1012\u001b[0m             \u001b[0mformatter\u001b[0m\u001b[0;34m=\u001b[0m\u001b[0mself\u001b[0m\u001b[0;34m.\u001b[0m\u001b[0mfmt\u001b[0m\u001b[0;34m,\u001b[0m\u001b[0;34m\u001b[0m\u001b[0;34m\u001b[0m\u001b[0m\n\u001b[1;32m   1013\u001b[0m         )\n\u001b[0;32m-> 1014\u001b[0;31m         \u001b[0mcsv_formatter\u001b[0m\u001b[0;34m.\u001b[0m\u001b[0msave\u001b[0m\u001b[0;34m(\u001b[0m\u001b[0;34m)\u001b[0m\u001b[0;34m\u001b[0m\u001b[0;34m\u001b[0m\u001b[0m\n\u001b[0m\u001b[1;32m   1015\u001b[0m \u001b[0;34m\u001b[0m\u001b[0m\n\u001b[1;32m   1016\u001b[0m         \u001b[0;32mif\u001b[0m \u001b[0mcreated_buffer\u001b[0m\u001b[0;34m:\u001b[0m\u001b[0;34m\u001b[0m\u001b[0;34m\u001b[0m\u001b[0m\n",
            "\u001b[0;32m/usr/local/lib/python3.10/dist-packages/pandas/io/formats/csvs.py\u001b[0m in \u001b[0;36msave\u001b[0;34m(self)\u001b[0m\n\u001b[1;32m    268\u001b[0m             )\n\u001b[1;32m    269\u001b[0m \u001b[0;34m\u001b[0m\u001b[0m\n\u001b[0;32m--> 270\u001b[0;31m             \u001b[0mself\u001b[0m\u001b[0;34m.\u001b[0m\u001b[0m_save\u001b[0m\u001b[0;34m(\u001b[0m\u001b[0;34m)\u001b[0m\u001b[0;34m\u001b[0m\u001b[0;34m\u001b[0m\u001b[0m\n\u001b[0m\u001b[1;32m    271\u001b[0m \u001b[0;34m\u001b[0m\u001b[0m\n\u001b[1;32m    272\u001b[0m     \u001b[0;32mdef\u001b[0m \u001b[0m_save\u001b[0m\u001b[0;34m(\u001b[0m\u001b[0mself\u001b[0m\u001b[0;34m)\u001b[0m \u001b[0;34m->\u001b[0m \u001b[0;32mNone\u001b[0m\u001b[0;34m:\u001b[0m\u001b[0;34m\u001b[0m\u001b[0;34m\u001b[0m\u001b[0m\n",
            "\u001b[0;32m/usr/local/lib/python3.10/dist-packages/pandas/io/formats/csvs.py\u001b[0m in \u001b[0;36m_save\u001b[0;34m(self)\u001b[0m\n\u001b[1;32m    273\u001b[0m         \u001b[0;32mif\u001b[0m \u001b[0mself\u001b[0m\u001b[0;34m.\u001b[0m\u001b[0m_need_to_save_header\u001b[0m\u001b[0;34m:\u001b[0m\u001b[0;34m\u001b[0m\u001b[0;34m\u001b[0m\u001b[0m\n\u001b[1;32m    274\u001b[0m             \u001b[0mself\u001b[0m\u001b[0;34m.\u001b[0m\u001b[0m_save_header\u001b[0m\u001b[0;34m(\u001b[0m\u001b[0;34m)\u001b[0m\u001b[0;34m\u001b[0m\u001b[0;34m\u001b[0m\u001b[0m\n\u001b[0;32m--> 275\u001b[0;31m         \u001b[0mself\u001b[0m\u001b[0;34m.\u001b[0m\u001b[0m_save_body\u001b[0m\u001b[0;34m(\u001b[0m\u001b[0;34m)\u001b[0m\u001b[0;34m\u001b[0m\u001b[0;34m\u001b[0m\u001b[0m\n\u001b[0m\u001b[1;32m    276\u001b[0m \u001b[0;34m\u001b[0m\u001b[0m\n\u001b[1;32m    277\u001b[0m     \u001b[0;32mdef\u001b[0m \u001b[0m_save_header\u001b[0m\u001b[0;34m(\u001b[0m\u001b[0mself\u001b[0m\u001b[0;34m)\u001b[0m \u001b[0;34m->\u001b[0m \u001b[0;32mNone\u001b[0m\u001b[0;34m:\u001b[0m\u001b[0;34m\u001b[0m\u001b[0;34m\u001b[0m\u001b[0m\n",
            "\u001b[0;32m/usr/local/lib/python3.10/dist-packages/pandas/io/formats/csvs.py\u001b[0m in \u001b[0;36m_save_body\u001b[0;34m(self)\u001b[0m\n\u001b[1;32m    311\u001b[0m             \u001b[0;32mif\u001b[0m \u001b[0mstart_i\u001b[0m \u001b[0;34m>=\u001b[0m \u001b[0mend_i\u001b[0m\u001b[0;34m:\u001b[0m\u001b[0;34m\u001b[0m\u001b[0;34m\u001b[0m\u001b[0m\n\u001b[1;32m    312\u001b[0m                 \u001b[0;32mbreak\u001b[0m\u001b[0;34m\u001b[0m\u001b[0;34m\u001b[0m\u001b[0m\n\u001b[0;32m--> 313\u001b[0;31m             \u001b[0mself\u001b[0m\u001b[0;34m.\u001b[0m\u001b[0m_save_chunk\u001b[0m\u001b[0;34m(\u001b[0m\u001b[0mstart_i\u001b[0m\u001b[0;34m,\u001b[0m \u001b[0mend_i\u001b[0m\u001b[0;34m)\u001b[0m\u001b[0;34m\u001b[0m\u001b[0;34m\u001b[0m\u001b[0m\n\u001b[0m\u001b[1;32m    314\u001b[0m \u001b[0;34m\u001b[0m\u001b[0m\n\u001b[1;32m    315\u001b[0m     \u001b[0;32mdef\u001b[0m \u001b[0m_save_chunk\u001b[0m\u001b[0;34m(\u001b[0m\u001b[0mself\u001b[0m\u001b[0;34m,\u001b[0m \u001b[0mstart_i\u001b[0m\u001b[0;34m:\u001b[0m \u001b[0mint\u001b[0m\u001b[0;34m,\u001b[0m \u001b[0mend_i\u001b[0m\u001b[0;34m:\u001b[0m \u001b[0mint\u001b[0m\u001b[0;34m)\u001b[0m \u001b[0;34m->\u001b[0m \u001b[0;32mNone\u001b[0m\u001b[0;34m:\u001b[0m\u001b[0;34m\u001b[0m\u001b[0;34m\u001b[0m\u001b[0m\n",
            "\u001b[0;32m/usr/local/lib/python3.10/dist-packages/pandas/io/formats/csvs.py\u001b[0m in \u001b[0;36m_save_chunk\u001b[0;34m(self, start_i, end_i)\u001b[0m\n\u001b[1;32m    319\u001b[0m \u001b[0;34m\u001b[0m\u001b[0m\n\u001b[1;32m    320\u001b[0m         \u001b[0mres\u001b[0m \u001b[0;34m=\u001b[0m \u001b[0mdf\u001b[0m\u001b[0;34m.\u001b[0m\u001b[0m_get_values_for_csv\u001b[0m\u001b[0;34m(\u001b[0m\u001b[0;34m**\u001b[0m\u001b[0mself\u001b[0m\u001b[0;34m.\u001b[0m\u001b[0m_number_format\u001b[0m\u001b[0;34m)\u001b[0m\u001b[0;34m\u001b[0m\u001b[0;34m\u001b[0m\u001b[0m\n\u001b[0;32m--> 321\u001b[0;31m         \u001b[0mdata\u001b[0m \u001b[0;34m=\u001b[0m \u001b[0mlist\u001b[0m\u001b[0;34m(\u001b[0m\u001b[0mres\u001b[0m\u001b[0;34m.\u001b[0m\u001b[0m_iter_column_arrays\u001b[0m\u001b[0;34m(\u001b[0m\u001b[0;34m)\u001b[0m\u001b[0;34m)\u001b[0m\u001b[0;34m\u001b[0m\u001b[0;34m\u001b[0m\u001b[0m\n\u001b[0m\u001b[1;32m    322\u001b[0m \u001b[0;34m\u001b[0m\u001b[0m\n\u001b[1;32m    323\u001b[0m         \u001b[0mix\u001b[0m \u001b[0;34m=\u001b[0m \u001b[0mself\u001b[0m\u001b[0;34m.\u001b[0m\u001b[0mdata_index\u001b[0m\u001b[0;34m[\u001b[0m\u001b[0mslicer\u001b[0m\u001b[0;34m]\u001b[0m\u001b[0;34m.\u001b[0m\u001b[0m_get_values_for_csv\u001b[0m\u001b[0;34m(\u001b[0m\u001b[0;34m**\u001b[0m\u001b[0mself\u001b[0m\u001b[0;34m.\u001b[0m\u001b[0m_number_format\u001b[0m\u001b[0;34m)\u001b[0m\u001b[0;34m\u001b[0m\u001b[0;34m\u001b[0m\u001b[0m\n",
            "\u001b[0;32m/usr/local/lib/python3.10/dist-packages/pandas/core/frame.py\u001b[0m in \u001b[0;36m_iter_column_arrays\u001b[0;34m(self)\u001b[0m\n\u001b[1;32m   4037\u001b[0m         \u001b[0;32melse\u001b[0m\u001b[0;34m:\u001b[0m\u001b[0;34m\u001b[0m\u001b[0;34m\u001b[0m\u001b[0m\n\u001b[1;32m   4038\u001b[0m             \u001b[0;32mfor\u001b[0m \u001b[0mi\u001b[0m \u001b[0;32min\u001b[0m \u001b[0mrange\u001b[0m\u001b[0;34m(\u001b[0m\u001b[0mlen\u001b[0m\u001b[0;34m(\u001b[0m\u001b[0mself\u001b[0m\u001b[0;34m.\u001b[0m\u001b[0mcolumns\u001b[0m\u001b[0;34m)\u001b[0m\u001b[0;34m)\u001b[0m\u001b[0;34m:\u001b[0m\u001b[0;34m\u001b[0m\u001b[0;34m\u001b[0m\u001b[0m\n\u001b[0;32m-> 4039\u001b[0;31m                 \u001b[0;32myield\u001b[0m \u001b[0mself\u001b[0m\u001b[0;34m.\u001b[0m\u001b[0m_get_column_array\u001b[0m\u001b[0;34m(\u001b[0m\u001b[0mi\u001b[0m\u001b[0;34m)\u001b[0m\u001b[0;34m\u001b[0m\u001b[0;34m\u001b[0m\u001b[0m\n\u001b[0m\u001b[1;32m   4040\u001b[0m \u001b[0;34m\u001b[0m\u001b[0m\n\u001b[1;32m   4041\u001b[0m     \u001b[0;32mdef\u001b[0m \u001b[0m_getitem_nocopy\u001b[0m\u001b[0;34m(\u001b[0m\u001b[0mself\u001b[0m\u001b[0;34m,\u001b[0m \u001b[0mkey\u001b[0m\u001b[0;34m:\u001b[0m \u001b[0mlist\u001b[0m\u001b[0;34m)\u001b[0m\u001b[0;34m:\u001b[0m\u001b[0;34m\u001b[0m\u001b[0;34m\u001b[0m\u001b[0m\n",
            "\u001b[0;31mKeyboardInterrupt\u001b[0m: "
          ]
        }
      ]
    },
    {
      "cell_type": "code",
      "source": [
        "print(train_data[0].dtype)\n",
        "print(train_data[1].dtype)\n",
        "print(y_train.dtype)\n",
        "print(test_data[0].dtype)\n",
        "print(test_data[1].dtype)\n",
        "print(y_test.dtype) #making sure the types all make sense, int and float would be perfect!"
      ],
      "metadata": {
        "colab": {
          "base_uri": "https://localhost:8080/"
        },
        "id": "qQSNUE00Cqeq",
        "outputId": "a68e9bfa-bc82-4301-bc41-468f84e93019"
      },
      "execution_count": null,
      "outputs": [
        {
          "output_type": "stream",
          "name": "stdout",
          "text": [
            "float64\n",
            "float64\n",
            "int64\n",
            "float64\n",
            "float64\n",
            "int64\n"
          ]
        }
      ]
    },
    {
      "cell_type": "code",
      "source": [
        "fitted = model.fit(\n",
        "    [train_data[0], train_data[1]],  # pairs of inputs\n",
        "    y_train,  # Labels\n",
        "    validation_data=([test_data[0], test_data[1]], y_test),\n",
        "    epochs=10,\n",
        "    batch_size=32 #kind of arbitrary choice\n",
        ")\n"
      ],
      "metadata": {
        "colab": {
          "base_uri": "https://localhost:8080/"
        },
        "id": "Ns9GgHP9CBxF",
        "outputId": "467b9f2b-cf35-487a-db51-49f1b167536e"
      },
      "execution_count": null,
      "outputs": [
        {
          "output_type": "stream",
          "name": "stdout",
          "text": [
            "Epoch 1/10\n",
            "\u001b[1m204/204\u001b[0m \u001b[32m━━━━━━━━━━━━━━━━━━━━\u001b[0m\u001b[37m\u001b[0m \u001b[1m9s\u001b[0m 24ms/step - accuracy: 0.9520 - loss: 0.1434 - val_accuracy: 0.9730 - val_loss: 0.1296\n",
            "Epoch 2/10\n",
            "\u001b[1m204/204\u001b[0m \u001b[32m━━━━━━━━━━━━━━━━━━━━\u001b[0m\u001b[37m\u001b[0m \u001b[1m2s\u001b[0m 11ms/step - accuracy: 0.9790 - loss: 0.1062 - val_accuracy: 0.9730 - val_loss: 0.1265\n",
            "Epoch 3/10\n",
            "\u001b[1m204/204\u001b[0m \u001b[32m━━━━━━━━━━━━━━━━━━━━\u001b[0m\u001b[37m\u001b[0m \u001b[1m2s\u001b[0m 11ms/step - accuracy: 0.9796 - loss: 0.1016 - val_accuracy: 0.9730 - val_loss: 0.1213\n",
            "Epoch 4/10\n",
            "\u001b[1m204/204\u001b[0m \u001b[32m━━━━━━━━━━━━━━━━━━━━\u001b[0m\u001b[37m\u001b[0m \u001b[1m2s\u001b[0m 11ms/step - accuracy: 0.9820 - loss: 0.0876 - val_accuracy: 0.9730 - val_loss: 0.1329\n",
            "Epoch 5/10\n",
            "\u001b[1m204/204\u001b[0m \u001b[32m━━━━━━━━━━━━━━━━━━━━\u001b[0m\u001b[37m\u001b[0m \u001b[1m2s\u001b[0m 11ms/step - accuracy: 0.9808 - loss: 0.0872 - val_accuracy: 0.9730 - val_loss: 0.1157\n",
            "Epoch 6/10\n",
            "\u001b[1m204/204\u001b[0m \u001b[32m━━━━━━━━━━━━━━━━━━━━\u001b[0m\u001b[37m\u001b[0m \u001b[1m2s\u001b[0m 11ms/step - accuracy: 0.9818 - loss: 0.0692 - val_accuracy: 0.9754 - val_loss: 0.1061\n",
            "Epoch 7/10\n",
            "\u001b[1m204/204\u001b[0m \u001b[32m━━━━━━━━━━━━━━━━━━━━\u001b[0m\u001b[37m\u001b[0m \u001b[1m2s\u001b[0m 11ms/step - accuracy: 0.9859 - loss: 0.0530 - val_accuracy: 0.9766 - val_loss: 0.1317\n",
            "Epoch 8/10\n",
            "\u001b[1m204/204\u001b[0m \u001b[32m━━━━━━━━━━━━━━━━━━━━\u001b[0m\u001b[37m\u001b[0m \u001b[1m2s\u001b[0m 11ms/step - accuracy: 0.9884 - loss: 0.0376 - val_accuracy: 0.9773 - val_loss: 0.1460\n",
            "Epoch 9/10\n",
            "\u001b[1m204/204\u001b[0m \u001b[32m━━━━━━━━━━━━━━━━━━━━\u001b[0m\u001b[37m\u001b[0m \u001b[1m2s\u001b[0m 11ms/step - accuracy: 0.9902 - loss: 0.0301 - val_accuracy: 0.9779 - val_loss: 0.1592\n",
            "Epoch 10/10\n",
            "\u001b[1m204/204\u001b[0m \u001b[32m━━━━━━━━━━━━━━━━━━━━\u001b[0m\u001b[37m\u001b[0m \u001b[1m2s\u001b[0m 11ms/step - accuracy: 0.9887 - loss: 0.0305 - val_accuracy: 0.9785 - val_loss: 0.1490\n"
          ]
        }
      ]
    },
    {
      "cell_type": "code",
      "source": [
        "plt.plot(fitted.history['accuracy'], label='Train Accuracy', color = \"cadetblue\") #used chatgpt and matplotlib for some documentenation related to formatting these graphs\n",
        "plt.plot(fitted.history['val_accuracy'], label='Validation Accuracy', color = 'deeppink')\n",
        "plt.xlabel('Epochs')\n",
        "plt.title('Training and Validation Accuracy')\n",
        "plt.ylabel('Accuracy')\n",
        "plt.legend()\n",
        "plt.show()\n",
        "\n",
        "plt.plot(fitted.history['loss'], label='Train Loss',  color = \"cadetblue\")\n",
        "plt.plot(fitted.history['val_loss'], label='Validation Loss', color = 'deeppink')\n",
        "plt.title('Training and Validation Loss')\n",
        "\n",
        "plt.xlabel('Epochs')\n",
        "plt.ylabel('Loss')\n",
        "plt.legend()\n",
        "plt.show()\n"
      ],
      "metadata": {
        "colab": {
          "base_uri": "https://localhost:8080/",
          "height": 927
        },
        "id": "jE9CqZ7mVDUo",
        "outputId": "ce72a716-53d0-45ab-c7af-c4bcc3b4b018"
      },
      "execution_count": null,
      "outputs": [
        {
          "output_type": "display_data",
          "data": {
            "text/plain": [
              "<Figure size 640x480 with 1 Axes>"
            ],
            "image/png": "[encoded data removed]"
          },
          "metadata": {}
        },
        {
          "output_type": "display_data",
          "data": {
            "text/plain": [
              "<Figure size 640x480 with 1 Axes>"
            ],
            "image/png": "[encoded data removed]"
          },
          "metadata": {}
        }
      ]
    },
    {
      "cell_type": "markdown",
      "source": [
        "The graph shows that the model struggles more on data it hasn't seen before, but not enough for me to be concerned about overfitting. Loss stops improving after epochs 7 and 8."
      ],
      "metadata": {
        "id": "O1CGMmRrVYT2"
      }
    },
    {
      "cell_type": "code",
      "source": [
        "predictions = model.predict([test_data[0], test_data[1]])\n",
        "print(predictions[:5])  # Printing first 5 predictions to see if outputs make sense"
      ],
      "metadata": {
        "colab": {
          "base_uri": "https://localhost:8080/"
        },
        "id": "xcKzZMezVXsQ",
        "outputId": "5d89e448-efe2-4255-eed0-f1568825d84e"
      },
      "execution_count": null,
      "outputs": [
        {
          "output_type": "stream",
          "name": "stdout",
          "text": [
            "\u001b[1m51/51\u001b[0m \u001b[32m━━━━━━━━━━━━━━━━━━━━\u001b[0m\u001b[37m\u001b[0m \u001b[1m1s\u001b[0m 7ms/step\n",
            "[[0.00080595]\n",
            " [0.00040788]\n",
            " [0.00551129]\n",
            " [0.00173959]\n",
            " [0.00091726]]\n"
          ]
        }
      ]
    },
    {
      "cell_type": "code",
      "source": [
        "# make probs into binary preds\n",
        "binary_predictions = (predictions > 0.5).astype(int)\n",
        "\n",
        "print(binary_predictions[:5]) #should be = 0\n"
      ],
      "metadata": {
        "colab": {
          "base_uri": "https://localhost:8080/"
        },
        "id": "VaaO2KQIeVKG",
        "outputId": "fb9cef58-2398-4c1e-9fab-07116d4661d4"
      },
      "execution_count": null,
      "outputs": [
        {
          "output_type": "stream",
          "name": "stdout",
          "text": [
            "[[0]\n",
            " [0]\n",
            " [0]\n",
            " [0]\n",
            " [0]]\n"
          ]
        }
      ]
    },
    {
      "cell_type": "code",
      "source": [
        "correct_predictions = (binary_predictions.flatten() == y_test).sum()\n",
        "\n",
        "print(f\"Number of correct predictions: {num_correct}/{len(y_test)}\") #len y-test will be the total n\n",
        "\n",
        "accuracy = num_correct / len(y_test)\n",
        "print(\"Accuracy: \", str(accuracy))\n"
      ],
      "metadata": {
        "colab": {
          "base_uri": "https://localhost:8080/"
        },
        "id": "Vrognv7ceaEz",
        "outputId": "195edc64-666c-417f-f3fd-3f0bce939fd0"
      },
      "execution_count": null,
      "outputs": [
        {
          "output_type": "stream",
          "name": "stdout",
          "text": [
            "Number of correct predictions: 1592/1627\n",
            "Accuracy: 0.9785\n"
          ]
        }
      ]
    },
    {
      "cell_type": "code",
      "source": [
        "count_greater_than_05 = (predictions > 0.5).sum() #in case want to play around with threshold, i could change value\n",
        "\n",
        "count_less_than_or_equal_05 = (predictions <= 0.5).sum()\n",
        "\n",
        "print(f\"Number of predictions > 0.5: \", str(count_greater_than_05))\n",
        "print(f\"Number of predictions <= 0.5: \", str(count_less_than_or_equal_05))\n"
      ],
      "metadata": {
        "colab": {
          "base_uri": "https://localhost:8080/"
        },
        "id": "QRF64SXOeoV5",
        "outputId": "9d22b3fb-11d0-44e7-f7c2-fb34493db7f8"
      },
      "execution_count": null,
      "outputs": [
        {
          "output_type": "stream",
          "name": "stdout",
          "text": [
            "Number of predictions > 0.5: 19\n",
            "Number of predictions <= 0.5: 1608\n"
          ]
        }
      ]
    },
    {
      "cell_type": "code",
      "source": [
        "y_test = np.array(y_test)\n",
        "\n",
        "threshold = 0.5\n",
        "\n",
        "binary_predictions = (predictions > threshold).astype(int)\n",
        "binary_predictions = binary_predictions.flatten()\n",
        "\n",
        "print(binary_predictions.shape, \" = shape\")\n",
        "\n",
        "\n",
        "# Calculate true positives, false positives, true negatives, and false negatives\n",
        "true_positives = np.sum((binary_predictions == 1) & (y_test == 1))\n",
        "false_positives = np.sum((binary_predictions == 1) & (y_test == 0))\n",
        "true_negatives = np.sum((binary_predictions == 0) & (y_test == 0))\n",
        "false_negatives = np.sum((binary_predictions == 0) & (y_test == 1))\n",
        "\n",
        "# Print the results\n",
        "print(f\"True Positives: {true_positives}\")\n",
        "print(f\"False Positives: {false_positives}\")\n",
        "print(f\"True Negatives: {true_negatives}\")\n",
        "print(f\"False Negatives: {false_negatives}\")\n"
      ],
      "metadata": {
        "colab": {
          "base_uri": "https://localhost:8080/"
        },
        "id": "y0TME4MsffNt",
        "outputId": "bec49f6f-b6e1-4ece-ae12-ee1ad1777415"
      },
      "execution_count": null,
      "outputs": [
        {
          "output_type": "stream",
          "name": "stdout",
          "text": [
            "Shape of binary_predictions: (1627,)\n",
            "Shape of y_test: (1627,)\n",
            "True Positives: 18\n",
            "False Positives: 9\n",
            "True Negatives: 1574\n",
            "False Negatives: 26\n"
          ]
        }
      ]
    },
    {
      "cell_type": "code",
      "source": [
        "\n",
        "# make sure it's np\n",
        "y_test = np.array(y_test)\n",
        "\n",
        "# plotting against thresholds\n",
        "thresholds = np.arange(.2, 1.1, 0.1)  # From 0 to 1, with step size of 0.1\n",
        "\n",
        "# storing the counts for each threshold\n",
        "true_positives_list = []\n",
        "false_positives_list = []\n",
        "true_negatives_list = []\n",
        "false_negatives_list = []\n",
        "tpr_list = []\n",
        "fpr_list = []\n",
        "tnr_list= []\n",
        "fnr_list= []\n",
        "\n",
        "for threshold in thresholds:\n",
        "    #already doing this but diong it just because\n",
        "    binary_predictions = (predictions > threshold).astype(int).flatten()\n",
        "\n",
        "    # calculations\n",
        "    true_positives = np.sum((binary_predictions == 1) & (y_test == 1))\n",
        "    false_positives = np.sum((binary_predictions == 1) & (y_test == 0))\n",
        "    true_negatives = np.sum((binary_predictions == 0) & (y_test == 0))\n",
        "    false_negatives = np.sum((binary_predictions == 0) & (y_test == 1))\n",
        "    tpr = true_positives / (true_positives + false_negatives) if (true_positives + false_negatives)\n",
        "    fpr = false_positives / (false_positives + true_negatives) if (false_positives + true_negatives)\n",
        "    tnr = true_negatives / (true_negatives + false_positives) if (true_negatives + false_positives)\n",
        "    fnr = false_negatives / (true_positives + false_negatives) if (true_positives + false_negatives)\n",
        "\n",
        "    tpr_list.append(tpr)\n",
        "    fpr_list.append(fpr)\n",
        "    fnr_list.append(fnr)\n",
        "    tnr_list.append(tnr)\n",
        "    true_positives_list.append(true_positives)\n",
        "    false_positives_list.append(false_positives)\n",
        "    true_negatives_list.append(true_negatives)\n",
        "    false_negatives_list.append(false_negatives)\n",
        "\n",
        "# Plotting the results\n",
        "\n",
        "plt.plot(thresholds, tpr_list, label='TPR', marker='o')\n",
        "plt.plot(thresholds, tnr_list, label='TNR', marker='o')\n",
        "plt.plot(thresholds, fnr_list, label='FNR', marker='o')\n",
        "plt.plot(thresholds, fpr_list, label='FPR', marker='o')\n",
        "\n",
        "plt.xlabel('Threshold')\n",
        "plt.ylabel('Count')\n",
        "plt.title('Count of True Positives, False Positives, True Negatives, False Negatives vs. Threshold')\n",
        "plt.legend()\n",
        "plt.grid(True)\n",
        "plt.show()"
      ],
      "metadata": {
        "colab": {
          "base_uri": "https://localhost:8080/",
          "height": 472
        },
        "id": "0vElynuyhKxS",
        "outputId": "a0aef606-42c0-4f71-8bbd-e871afe9a4fc"
      },
      "execution_count": null,
      "outputs": [
        {
          "output_type": "display_data",
          "data": {
            "text/plain": [
              "<Figure size 640x480 with 1 Axes>"
            ],
            "image/png": "[encoded data removed]"
          },
          "metadata": {}
        }
      ]
    },
    {
      "cell_type": "code",
      "source": [
        "binary_predictions = (predictions > .5).astype(int).flatten()\n",
        "\n",
        "true_positives = np.sum((binary_predictions == 1) & (y_test == 1))\n",
        "false_positives = np.sum((binary_predictions == 1) & (y_test == 0))\n",
        "true_negatives = np.sum((binary_predictions == 0) & (y_test == 0))\n",
        "false_negatives = np.sum((binary_predictions == 0) & (y_test == 1))\n",
        "\n",
        "tpr = true_positives / (true_positives + false_negatives)\n",
        "fpr = false_positives / (false_positives + true_negatives)\n",
        "tnr = true_negatives / (true_negatives + false_positives)\n",
        "fnr = false_negatives / (true_positives + false_negatives)\n",
        "\n",
        "print(f\"True Positives: {true_positives}\")\n",
        "print(f\"False Positives: {false_positives}\")\n",
        "print(f\"True Negatives: {true_negatives}\")\n",
        "print(f\"False Negatives: {false_negatives}\")\n",
        "print(f\"TPR: {tpr}\")\n",
        "print(f\"FPR: {fpr}\")\n",
        "print(f\"TNR: {tnr}\")\n",
        "print(f\"FNR: {fnr}\") #without it being for threshold val .5 (can also subset from the list above)"
      ],
      "metadata": {
        "colab": {
          "base_uri": "https://localhost:8080/"
        },
        "id": "yIaE-7qQHGQ-",
        "outputId": "266b31af-bbe0-4896-88c8-8df8a29b8353"
      },
      "execution_count": null,
      "outputs": [
        {
          "output_type": "stream",
          "name": "stdout",
          "text": [
            "True Positives: 18\n",
            "False Positives: 9\n",
            "True Negatives: 1574\n",
            "False Negatives: 26\n",
            "TPR: 0.4090909090909091\n",
            "FPR: 0.005685407454200884\n",
            "TNR: 0.9943145925457991\n",
            "FNR: 0.5909090909090909\n"
          ]
        }
      ]
    },
    {
      "cell_type": "markdown",
      "source": [
        "## Metrics for our classification:"
      ],
      "metadata": {
        "id": "V3C2AivfeQcp"
      }
    },
    {
      "cell_type": "code",
      "source": [
        "from sklearn.metrics import roc_curve, f1_score, roc_auc_score, classification_report, auc #imports"
      ],
      "metadata": {
        "id": "HNwLe2Rsco0F"
      },
      "execution_count": null,
      "outputs": []
    },
    {
      "cell_type": "code",
      "source": [
        "y_pred_probs = model.predict([test_data[0], test_data[1]])\n",
        "\n",
        "y_pred = (y_pred_probs > 0.5).astype(int)"
      ],
      "metadata": {
        "colab": {
          "base_uri": "https://localhost:8080/"
        },
        "id": "fhEIyuXAdIP7",
        "outputId": "f05a524d-54f7-4378-d91c-af6dd02b100a"
      },
      "execution_count": null,
      "outputs": [
        {
          "output_type": "stream",
          "name": "stdout",
          "text": [
            "\u001b[1m51/51\u001b[0m \u001b[32m━━━━━━━━━━━━━━━━━━━━\u001b[0m\u001b[37m\u001b[0m \u001b[1m0s\u001b[0m 2ms/step\n"
          ]
        }
      ]
    },
    {
      "cell_type": "code",
      "source": [
        "f1 = f1_score(y_test, y_pred)\n",
        "print(\"F1-Score: \", str(f1))"
      ],
      "metadata": {
        "colab": {
          "base_uri": "https://localhost:8080/"
        },
        "id": "adEcPigDdz5G",
        "outputId": "a2f21df3-ea0d-4e92-f5ae-5dd88f31ddaf"
      },
      "execution_count": null,
      "outputs": [
        {
          "output_type": "stream",
          "name": "stdout",
          "text": [
            "F1-Score:  0.5070422535211268\n"
          ]
        }
      ]
    },
    {
      "cell_type": "code",
      "source": [
        "auc = roc_auc_score(y_test, y_pred_probs)\n",
        "print(\"AUC value: \", auc)"
      ],
      "metadata": {
        "colab": {
          "base_uri": "https://localhost:8080/"
        },
        "id": "TvtLNaQbd-pP",
        "outputId": "0313e742-07f5-4ac1-e582-2c8570751b00"
      },
      "execution_count": null,
      "outputs": [
        {
          "output_type": "stream",
          "name": "stdout",
          "text": [
            "AUC value:  0.6743740308964568\n"
          ]
        }
      ]
    },
    {
      "cell_type": "code",
      "source": [
        "fpr, tpr, thresholds = roc_curve(y_test, predictions)  # predictions are probabilities\n",
        "roc_auc = auc(fpr, tpr)\n",
        "\n",
        "#plot ROC\n",
        "plt.plot(fpr, tpr, color='saddlebrown', lw=2, label=f'ROC Curve (AUC = {roc_auc:.2f})')\n",
        "plt.plot([0, 1], [0, 1], color='cornflowerblue', lw=2, linestyle='--', label='45-degree line (y=x)')\n",
        "plt.xlim([0.0, 1.0])\n",
        "plt.ylim([0.0, 1.05])\n",
        "plt.xlabel('False Positive Rate')\n",
        "plt.ylabel('True Positive Rate')\n",
        "plt.title('Receiver Operating Characteristic Curve')\n",
        "plt.legend(loc='lower right')\n",
        "plt.grid(alpha=0.3)\n",
        "plt.show()\n"
      ],
      "metadata": {
        "colab": {
          "base_uri": "https://localhost:8080/",
          "height": 472
        },
        "id": "ADD5V9Dim6jW",
        "outputId": "0f51b346-805f-4b00-f76f-3e960756c2f7"
      },
      "execution_count": null,
      "outputs": [
        {
          "output_type": "display_data",
          "data": {
            "text/plain": [
              "<Figure size 640x480 with 1 Axes>"
            ],
            "image/png": "[encoded data removed]"
          },
          "metadata": {}
        }
      ]
    },
    {
      "cell_type": "code",
      "source": [
        "precision = true_positives / (true_positives + false_positives)\n",
        "precision"
      ],
      "metadata": {
        "colab": {
          "base_uri": "https://localhost:8080/"
        },
        "id": "YUK7U_pJka-m",
        "outputId": "891f2f74-5bd7-4760-8c24-f49bcfedaa0a"
      },
      "execution_count": null,
      "outputs": [
        {
          "output_type": "execute_result",
          "data": {
            "text/plain": [
              "0.6666666666666666"
            ]
          },
          "metadata": {},
          "execution_count": 132
        }
      ]
    },
    {
      "cell_type": "code",
      "source": [
        "print(classification_report(y_test, y_pred))"
      ],
      "metadata": {
        "colab": {
          "base_uri": "https://localhost:8080/"
        },
        "id": "NR6YIodWe0Rq",
        "outputId": "58f25446-7778-4faa-dc9c-3433b5937a04"
      },
      "execution_count": null,
      "outputs": [
        {
          "output_type": "stream",
          "name": "stdout",
          "text": [
            "              precision    recall  f1-score   support\n",
            "\n",
            "           0       0.98      0.99      0.99      1583\n",
            "           1       0.67      0.41      0.51        44\n",
            "\n",
            "    accuracy                           0.98      1627\n",
            "   macro avg       0.83      0.70      0.75      1627\n",
            "weighted avg       0.98      0.98      0.98      1627\n",
            "\n"
          ]
        }
      ]
    },
    {
      "cell_type": "markdown",
      "source": [
        "## Data Exploration\n",
        "\n",
        "This would theoretcially go before the CNN and such but I wanted to get that out of the way first because I was worried about my code working."
      ],
      "metadata": {
        "id": "ZdQT2diS7zgR"
      }
    },
    {
      "cell_type": "code",
      "source": [
        "all_image_paths = pd.concat([subset_processed['Image Path 1'], subset_processed['Image Path 2']])\n",
        "\n",
        "unique_image_paths = all_image_paths.drop_duplicates() #removing duplicates\n",
        "\n",
        "path_to_text_mapping = df.set_index('Image Path')['Text'].to_dict()\n",
        "\n",
        "associated_array = [(path, path_to_text_mapping.get(path, None)) for path in unique_image_paths]\n",
        "\n",
        "associated_df = pd.DataFrame(associated_array, columns=['Image Path', 'Text']) #to a pandas df\n",
        "\n",
        "print(associated_df)"
      ],
      "metadata": {
        "colab": {
          "base_uri": "https://localhost:8080/"
        },
        "id": "lo54zgIr7yk2",
        "outputId": "9e23be70-6967-44f4-bdb0-7c822eac2203"
      },
      "execution_count": null,
      "outputs": [
        {
          "output_type": "stream",
          "name": "stdout",
          "text": [
            "                                             Image Path  \\\n",
            "0     /content/gdrive/MyDrive/P3/lines/g03/g03-043/g...   \n",
            "1     /content/gdrive/MyDrive/P3/lines/h07/h07-080/h...   \n",
            "2     /content/gdrive/MyDrive/P3/lines/m04/m04-131/m...   \n",
            "3     /content/gdrive/MyDrive/P3/lines/r03/r03-110/r...   \n",
            "4     /content/gdrive/MyDrive/P3/lines/e04/e04-119/e...   \n",
            "...                                                 ...   \n",
            "9381  /content/gdrive/MyDrive/P3/lines/d04/d04-131/d...   \n",
            "9382  /content/gdrive/MyDrive/P3/lines/a01/a01-122u/...   \n",
            "9383  /content/gdrive/MyDrive/P3/lines/g06/g06-045l/...   \n",
            "9384  /content/gdrive/MyDrive/P3/lines/c06/c06-027/c...   \n",
            "9385  /content/gdrive/MyDrive/P3/lines/g06/g06-037l/...   \n",
            "\n",
            "                                                   Text  \n",
            "0                   subjects, for being well acquainted  \n",
            "1            industrial selection scheme by arrangement  \n",
            "2                On the back seat Stan Hayball embraced  \n",
            "3        and some in West Hampstead for four two fifty,  \n",
            "4     the moulds. You won't want them again for this...  \n",
            "...                                                 ...  \n",
            "9381  eating Matzos in Egypt and the &quot;Feast of ...  \n",
            "9382         of children today owed much to the welfare  \n",
            "9383  diplomatist Lord Ponsonby, had written to advi...  \n",
            "9384    It's a very free place to write in, and there's  \n",
            "9385  While he was in Naples there had opened a new ...  \n",
            "\n",
            "[9386 rows x 2 columns]\n"
          ]
        }
      ]
    },
    {
      "cell_type": "code",
      "source": [
        "associated_df['Word Count'] = associated_df['Text'].apply(lambda s: len(s.split()) if pd.notnull(s) else 0) #initalizing and filling word count column\n",
        "\n",
        "print(associated_df)"
      ],
      "metadata": {
        "colab": {
          "base_uri": "https://localhost:8080/"
        },
        "id": "Yi0J5QyG9Dfi",
        "outputId": "2e2712d8-7e03-4331-e22f-d99488c58ff6"
      },
      "execution_count": null,
      "outputs": [
        {
          "output_type": "stream",
          "name": "stdout",
          "text": [
            "                                             Image Path  \\\n",
            "0     /content/gdrive/MyDrive/P3/lines/g03/g03-043/g...   \n",
            "1     /content/gdrive/MyDrive/P3/lines/h07/h07-080/h...   \n",
            "2     /content/gdrive/MyDrive/P3/lines/m04/m04-131/m...   \n",
            "3     /content/gdrive/MyDrive/P3/lines/r03/r03-110/r...   \n",
            "4     /content/gdrive/MyDrive/P3/lines/e04/e04-119/e...   \n",
            "...                                                 ...   \n",
            "9381  /content/gdrive/MyDrive/P3/lines/d04/d04-131/d...   \n",
            "9382  /content/gdrive/MyDrive/P3/lines/a01/a01-122u/...   \n",
            "9383  /content/gdrive/MyDrive/P3/lines/g06/g06-045l/...   \n",
            "9384  /content/gdrive/MyDrive/P3/lines/c06/c06-027/c...   \n",
            "9385  /content/gdrive/MyDrive/P3/lines/g06/g06-037l/...   \n",
            "\n",
            "                                                   Text  Word Count  \n",
            "0                   subjects, for being well acquainted           5  \n",
            "1            industrial selection scheme by arrangement           5  \n",
            "2                On the back seat Stan Hayball embraced           7  \n",
            "3        and some in West Hampstead for four two fifty,           9  \n",
            "4     the moulds. You won't want them again for this...          11  \n",
            "...                                                 ...         ...  \n",
            "9381  eating Matzos in Egypt and the &quot;Feast of ...           9  \n",
            "9382         of children today owed much to the welfare           8  \n",
            "9383  diplomatist Lord Ponsonby, had written to advi...           8  \n",
            "9384    It's a very free place to write in, and there's          10  \n",
            "9385  While he was in Naples there had opened a new ...          11  \n",
            "\n",
            "[9386 rows x 3 columns]\n"
          ]
        }
      ]
    },
    {
      "cell_type": "code",
      "source": [
        "associated_df['Word Count'].mean()"
      ],
      "metadata": {
        "colab": {
          "base_uri": "https://localhost:8080/"
        },
        "id": "AYtX8Hf-fG9E",
        "outputId": "96987977-9c67-4397-9919-340bd3173735"
      },
      "execution_count": null,
      "outputs": [
        {
          "output_type": "execute_result",
          "data": {
            "text/plain": [
              "7.548369912635841"
            ]
          },
          "metadata": {},
          "execution_count": 47
        }
      ]
    },
    {
      "cell_type": "code",
      "source": [
        "associated_df['Word Count'].std()"
      ],
      "metadata": {
        "colab": {
          "base_uri": "https://localhost:8080/"
        },
        "id": "Y9qXn805gS0q",
        "outputId": "d9d39b3f-c09c-49ff-d5fc-6112eea71a03"
      },
      "execution_count": null,
      "outputs": [
        {
          "output_type": "execute_result",
          "data": {
            "text/plain": [
              "2.1247342134616103"
            ]
          },
          "metadata": {},
          "execution_count": 48
        }
      ]
    },
    {
      "cell_type": "code",
      "source": [
        "plt.hist(associated_df['Word Count'], bins=10, edgecolor='k', color = \"lightcoral\")\n",
        "plt.xlabel('Word Count')\n",
        "plt.ylabel('Frequency')\n",
        "plt.title('Distribution of Word Counts')\n",
        "plt.show()"
      ],
      "metadata": {
        "colab": {
          "base_uri": "https://localhost:8080/",
          "height": 472
        },
        "id": "iXp6PmOnfcsz",
        "outputId": "d32569fb-007d-46d0-bc73-cafaa24056d8"
      },
      "execution_count": null,
      "outputs": [
        {
          "output_type": "display_data",
          "data": {
            "text/plain": [
              "<Figure size 640x480 with 1 Axes>"
            ],
            "image/png": "[encoded data removed]"
          },
          "metadata": {}
        }
      ]
    },
    {
      "cell_type": "code",
      "source": [
        "associated_df['Character Count'] = associated_df['Text'].apply(len)"
      ],
      "metadata": {
        "id": "LSvlmIKDg0mv"
      },
      "execution_count": null,
      "outputs": []
    },
    {
      "cell_type": "code",
      "source": [
        "print(associated_df['Character Count'].mean(), associated_df['Character Count'].std())"
      ],
      "metadata": {
        "colab": {
          "base_uri": "https://localhost:8080/"
        },
        "id": "4PHhRFodg32o",
        "outputId": "892847a9-f664-4f65-b282-bdfa5c4bad54"
      },
      "execution_count": null,
      "outputs": [
        {
          "output_type": "stream",
          "name": "stdout",
          "text": [
            "42.729490730875774 10.433870591034934\n"
          ]
        }
      ]
    },
    {
      "cell_type": "code",
      "source": [
        "plt.hist(associated_df['Character Count'], bins=20, edgecolor='k', color = \"thistlebas\")\n",
        "plt.xlabel('Character Count')\n",
        "plt.ylabel('Frequency')\n",
        "plt.title('Distribution of Character Counts')\n",
        "plt.show()"
      ],
      "metadata": {
        "colab": {
          "base_uri": "https://localhost:8080/",
          "height": 472
        },
        "id": "r2kwnQA0g8El",
        "outputId": "95c38189-9c0c-46e9-b08b-ffdd947662d9"
      },
      "execution_count": null,
      "outputs": [
        {
          "output_type": "display_data",
          "data": {
            "text/plain": [
              "<Figure size 640x480 with 1 Axes>"
            ],
            "image/png": "[encoded data removed]"
          },
          "metadata": {}
        }
      ]
    },
    {
      "cell_type": "code",
      "source": [
        "num_rows = len(associated_df)\n",
        "num_rows"
      ],
      "metadata": {
        "colab": {
          "base_uri": "https://localhost:8080/"
        },
        "id": "Cg7zsbUOhhLM",
        "outputId": "a2a3c7ac-4667-4c71-8d72-ba6a5d7e9c62"
      },
      "execution_count": null,
      "outputs": [
        {
          "output_type": "execute_result",
          "data": {
            "text/plain": [
              "9386"
            ]
          },
          "metadata": {},
          "execution_count": 60
        }
      ]
    }
  ]
}